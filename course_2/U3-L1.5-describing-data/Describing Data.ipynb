{
 "cells": [
  {
   "cell_type": "code",
   "execution_count": 29,
   "metadata": {
    "collapsed": true
   },
   "outputs": [],
   "source": [
    "import pandas as pd\n",
    "import numpy as np\n",
    "from scipy import stats"
   ]
  },
  {
   "cell_type": "markdown",
   "metadata": {},
   "source": [
    "Now that we have introduced some tools for describing populations, let's try them out. First do these drills by hand, then use the Python code we've provided in the previous assignments to check your work. Keep track of your work in a Google document or markdown file that you can submit below and share with your mentor.\n",
    "\n",
    "Greg was 14, Marcia was 12, Peter was 11, Jan was 10, Bobby was 8, and Cindy was 6 when they started playing the Brady kids on The Brady Bunch. Cousin Oliver was 8 years old when he joined the show. What are the mean, median, and mode of the kids' ages when they first appeared on the show? What are the variance, standard deviation, and standard error?"
   ]
  },
  {
   "cell_type": "code",
   "execution_count": 42,
   "metadata": {
    "collapsed": false
   },
   "outputs": [
    {
     "name": "stdout",
     "output_type": "stream",
     "text": [
      "mean: 9.857142857142858\n",
      "median: 10.0\n",
      "mode: 8\n",
      "variance: 6.408163265306122\n",
      "standard deviation: 2.531435020952764\n",
      "standard error: 1.0334540197243194\n"
     ]
    }
   ],
   "source": [
    "ages = [14, 12, 11, 10, 8, 6, 8]\n",
    "\n",
    "def analysis(ages):\n",
    "    '''returns statistical analysis of a given list'''\n",
    "    print('mean:', np.mean(ages))\n",
    "    print('median:', np.median(ages))\n",
    "    print('mode:', stats.mode(ages, axis=None)[0][0])\n",
    "    print('variance:', np.var(ages))\n",
    "    print('standard deviation:', np.std(ages))\n",
    "    print('standard error:', np.std(ages)/np.sqrt(len(ages)-1))\n",
    "\n",
    "analysis(ages)"
   ]
  },
  {
   "cell_type": "markdown",
   "metadata": {},
   "source": [
    "Next, Cindy has a birthday. Update your estimates- what changed, and what didn't?\n",
    "Nobody likes Cousin Oliver."
   ]
  },
  {
   "cell_type": "code",
   "execution_count": 43,
   "metadata": {
    "collapsed": false
   },
   "outputs": [
    {
     "name": "stdout",
     "output_type": "stream",
     "text": [
      "mean: 10.0\n",
      "median: 10.0\n",
      "mode: 8\n",
      "variance: 5.428571428571429\n",
      "standard deviation: 2.32992949004287\n",
      "standard error: 0.951189731211342\n"
     ]
    }
   ],
   "source": [
    "ages[5] += 1\n",
    "\n",
    "analysis(ages)"
   ]
  },
  {
   "cell_type": "markdown",
   "metadata": {},
   "source": [
    "Maybe the network should have used an even younger actor. Replace Cousin Oliver with 1-year-old Jessica, then recalculate again. Does this change your choice of central tendency or variance estimation methods?"
   ]
  },
  {
   "cell_type": "code",
   "execution_count": 44,
   "metadata": {
    "collapsed": false
   },
   "outputs": [
    {
     "name": "stdout",
     "output_type": "stream",
     "text": [
      "mean: 9.0\n",
      "median: 10.0\n",
      "mode: 1\n",
      "variance: 15.428571428571429\n",
      "standard deviation: 3.927922024247863\n",
      "standard error: 1.6035674514745466\n"
     ]
    }
   ],
   "source": [
    "ages[6] = 1\n",
    "\n",
    "analysis(ages)"
   ]
  }
 ],
 "metadata": {
  "anaconda-cloud": {},
  "kernelspec": {
   "display_name": "Python 3",
   "language": "python",
   "name": "python3"
  },
  "language_info": {
   "codemirror_mode": {
    "name": "ipython",
    "version": 3
   },
   "file_extension": ".py",
   "mimetype": "text/x-python",
   "name": "python",
   "nbconvert_exporter": "python",
   "pygments_lexer": "ipython3",
   "version": "3.6.4"
  }
 },
 "nbformat": 4,
 "nbformat_minor": 1
}
