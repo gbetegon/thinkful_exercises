{
 "cells": [
  {
   "cell_type": "code",
   "execution_count": 173,
   "metadata": {
    "collapsed": false
   },
   "outputs": [],
   "source": [
    "import pandas as pd\n",
    "import numpy as np\n",
    "import statsmodels.api as sm\n",
    "from sklearn.model_selection import KFold\n",
    "from sklearn.linear_model import LinearRegression\n",
    "from sklearn.model_selection import cross_val_predict\n",
    "from sklearn.model_selection import cross_val_score\n",
    "from sklearn.metrics import mean_squared_error\n",
    "from sklearn.metrics import mean_absolute_error\n",
    "from sklearn.metrics import r2_score"
   ]
  },
  {
   "cell_type": "markdown",
   "metadata": {},
   "source": [
    "### Process data"
   ]
  },
  {
   "cell_type": "code",
   "execution_count": 174,
   "metadata": {
    "collapsed": false
   },
   "outputs": [
    {
     "data": {
      "text/html": [
       "<div>\n",
       "<table border=\"1\" class=\"dataframe\">\n",
       "  <thead>\n",
       "    <tr style=\"text-align: right;\">\n",
       "      <th></th>\n",
       "      <th>Interest.Rate</th>\n",
       "      <th>Loan.Length</th>\n",
       "      <th>FICO.Score</th>\n",
       "    </tr>\n",
       "  </thead>\n",
       "  <tbody>\n",
       "    <tr>\n",
       "      <th>81174</th>\n",
       "      <td>8.90</td>\n",
       "      <td>36</td>\n",
       "      <td>735</td>\n",
       "    </tr>\n",
       "    <tr>\n",
       "      <th>99592</th>\n",
       "      <td>12.12</td>\n",
       "      <td>36</td>\n",
       "      <td>715</td>\n",
       "    </tr>\n",
       "    <tr>\n",
       "      <th>80059</th>\n",
       "      <td>21.98</td>\n",
       "      <td>60</td>\n",
       "      <td>690</td>\n",
       "    </tr>\n",
       "    <tr>\n",
       "      <th>15825</th>\n",
       "      <td>9.99</td>\n",
       "      <td>36</td>\n",
       "      <td>695</td>\n",
       "    </tr>\n",
       "    <tr>\n",
       "      <th>33182</th>\n",
       "      <td>11.71</td>\n",
       "      <td>36</td>\n",
       "      <td>695</td>\n",
       "    </tr>\n",
       "  </tbody>\n",
       "</table>\n",
       "</div>"
      ],
      "text/plain": [
       "       Interest.Rate  Loan.Length  FICO.Score\n",
       "81174           8.90           36         735\n",
       "99592          12.12           36         715\n",
       "80059          21.98           60         690\n",
       "15825           9.99           36         695\n",
       "33182          11.71           36         695"
      ]
     },
     "execution_count": 174,
     "metadata": {},
     "output_type": "execute_result"
    }
   ],
   "source": [
    "# Load data\n",
    "loansData = pd.read_csv('https://github.com/Thinkful-Ed/curric-data-001-data-sets/raw/master/loans/loansData.csv')\n",
    "\n",
    "# Clean and process data\n",
    "loansData['Interest.Rate'] = map(lambda x: round(float(x[:-1]), 4), loansData['Interest.Rate'])\n",
    "loansData['Loan.Length'] = map(lambda x: int(x[:-7]), loansData['Loan.Length'])\n",
    "loansData['FICO.Score'] = map(lambda x: int(x[:3]), loansData['FICO.Range'])\n",
    "\n",
    "# Show columns we'll use for the regressions\n",
    "loansData[['Interest.Rate', 'Loan.Length', 'FICO.Score']].head()"
   ]
  },
  {
   "cell_type": "markdown",
   "metadata": {},
   "source": [
    "### Split and regress"
   ]
  },
  {
   "cell_type": "code",
   "execution_count": 175,
   "metadata": {
    "collapsed": false
   },
   "outputs": [],
   "source": [
    "# Split X and y into 10 folds\n",
    "X = np.column_stack([loansData['Loan.Length'], loansData['FICO.Score']])\n",
    "y = loansData['Interest.Rate'].tolist()\n",
    "num_instances = len(X)\n",
    "kfold = KFold(n_splits=10)\n",
    "\n",
    "# Linear regression\n",
    "model = LinearRegression()"
   ]
  },
  {
   "cell_type": "markdown",
   "metadata": {},
   "source": [
    "### Cros-validation"
   ]
  },
  {
   "cell_type": "code",
   "execution_count": 176,
   "metadata": {
    "collapsed": false
   },
   "outputs": [
    {
     "name": "stdout",
     "output_type": "stream",
     "text": [
      "Accuracy: 68.742% (2.346%)\n"
     ]
    }
   ],
   "source": [
    "results = cross_val_score(model, X, y, cv=kfold)\n",
    "print(\"Accuracy: %.3f%% (%.3f%%)\") % (results.mean()*100.0, results.std()*100.0)"
   ]
  },
  {
   "cell_type": "code",
   "execution_count": 177,
   "metadata": {
    "collapsed": false
   },
   "outputs": [
    {
     "name": "stdout",
     "output_type": "stream",
     "text": [
      "MSE: 5.42648996084, MAE: 1.84368454386, R2S: 0.689037515442\n"
     ]
    }
   ],
   "source": [
    "results = cross_val_predict(model, X, y, cv=kfold)\n",
    "MSE = mean_squared_error(y, results)\n",
    "MAE = mean_absolute_error(y, results)\n",
    "R2S = r2_score(y, results)\n",
    "\n",
    "print(\"MSE: {}, MAE: {}, R2S: {}\".format(MSE, MAE, R2S))"
   ]
  },
  {
   "cell_type": "markdown",
   "metadata": {},
   "source": [
    "### Checking R2"
   ]
  },
  {
   "cell_type": "code",
   "execution_count": 178,
   "metadata": {
    "collapsed": false
   },
   "outputs": [
    {
     "name": "stdout",
     "output_type": "stream",
     "text": [
      "                            OLS Regression Results                            \n",
      "==============================================================================\n",
      "Dep. Variable:                      y   R-squared:                       0.690\n",
      "Model:                            OLS   Adj. R-squared:                  0.690\n",
      "Method:                 Least Squares   F-statistic:                     2776.\n",
      "Date:                Sat, 04 Feb 2017   Prob (F-statistic):               0.00\n",
      "Time:                        23:55:26   Log-Likelihood:                -5658.3\n",
      "No. Observations:                2500   AIC:                         1.132e+04\n",
      "Df Residuals:                    2497   BIC:                         1.134e+04\n",
      "Df Model:                           2                                         \n",
      "Covariance Type:            nonrobust                                         \n",
      "==============================================================================\n",
      "                 coef    std err          t      P>|t|      [95.0% Conf. Int.]\n",
      "------------------------------------------------------------------------------\n",
      "const         65.7041      0.957     68.660      0.000        63.828    67.581\n",
      "x1             0.1819      0.005     38.796      0.000         0.173     0.191\n",
      "x2            -0.0852      0.001    -64.093      0.000        -0.088    -0.083\n",
      "==============================================================================\n",
      "Omnibus:                       93.973   Durbin-Watson:                   1.968\n",
      "Prob(Omnibus):                  0.000   Jarque-Bera (JB):              107.452\n",
      "Skew:                           0.454   Prob(JB):                     4.65e-24\n",
      "Kurtosis:                       3.456   Cond. No.                     1.46e+04\n",
      "==============================================================================\n",
      "\n",
      "Warnings:\n",
      "[1] Standard Errors assume that the covariance matrix of the errors is correctly specified.\n",
      "[2] The condition number is large, 1.46e+04. This might indicate that there are\n",
      "strong multicollinearity or other numerical problems.\n"
     ]
    }
   ],
   "source": [
    "J = sm.add_constant(X)\n",
    "model = sm.OLS(y,J)\n",
    "f = model.fit()\n",
    "\n",
    "print(f.summary())"
   ]
  }
 ],
 "metadata": {
  "anaconda-cloud": {},
  "kernelspec": {
   "display_name": "Python [default]",
   "language": "python",
   "name": "python2"
  },
  "language_info": {
   "codemirror_mode": {
    "name": "ipython",
    "version": 2
   },
   "file_extension": ".py",
   "mimetype": "text/x-python",
   "name": "python",
   "nbconvert_exporter": "python",
   "pygments_lexer": "ipython2",
   "version": "2.7.12"
  }
 },
 "nbformat": 4,
 "nbformat_minor": 1
}
