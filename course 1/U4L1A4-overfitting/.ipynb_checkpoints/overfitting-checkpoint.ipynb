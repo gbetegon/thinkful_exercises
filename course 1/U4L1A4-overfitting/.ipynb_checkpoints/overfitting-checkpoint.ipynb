{
 "cells": [
  {
   "cell_type": "code",
   "execution_count": 5,
   "metadata": {
    "collapsed": false
   },
   "outputs": [],
   "source": [
    "import numpy as np\n",
    "import pandas as pd\n",
    "import statsmodels.formula.api as smf\n",
    "import statsmodels as sm\n",
    "import matplotlib.pyplot as plt\n",
    "from sklearn.metrics import mean_squared_error"
   ]
  },
  {
   "cell_type": "code",
   "execution_count": 6,
   "metadata": {
    "collapsed": false
   },
   "outputs": [],
   "source": [
    "# 1. Process and generate the initial data set for modeling\n",
    "np.random.seed(414)     # Q1\n",
    "\n",
    "X = np.linspace(0, 15, 1000)\n",
    "y = 3 * np.sin(X) + np.random.normal(1 + X, .2, 1000)\n",
    "\n",
    "# 2. Split the data into training and testing sets.\n",
    "train_X, train_y = X[:700], y[:700]\n",
    "test_X, test_y = X[700:], y[700:]\n",
    "\n",
    "train_df = pd.DataFrame({'X': train_X, 'y': train_y})\n",
    "test_df = pd.DataFrame({'X': test_X, 'y': test_y})\n",
    "\n",
    "# 3. Build models\n",
    "li_regrs = smf.ols(formula='y ~ 1 + X', data=train_df).fit()\n",
    "qd_regrs = smf.ols(formula='y ~ 1 + X + I(X**2)', data=train_df).fit()"
   ]
  },
  {
   "cell_type": "markdown",
   "metadata": {},
   "source": [
    "### QUESTION\n",
    "\n",
    "Q1: How does the parameter work in np.random.seed()? I understand that fixes the random variable to get always the same result, but not sure what the number 414 implies"
   ]
  },
  {
   "cell_type": "code",
   "execution_count": 7,
   "metadata": {
    "collapsed": false
   },
   "outputs": [
    {
     "data": {
      "text/html": [
       "<div>\n",
       "<table border=\"1\" class=\"dataframe\">\n",
       "  <thead>\n",
       "    <tr style=\"text-align: right;\">\n",
       "      <th></th>\n",
       "      <th>Linear</th>\n",
       "      <th>Quadratic</th>\n",
       "    </tr>\n",
       "  </thead>\n",
       "  <tbody>\n",
       "    <tr>\n",
       "      <th>Train</th>\n",
       "      <td>4.056770</td>\n",
       "      <td>3.790046</td>\n",
       "    </tr>\n",
       "    <tr>\n",
       "      <th>Test</th>\n",
       "      <td>6.547541</td>\n",
       "      <td>7.987383</td>\n",
       "    </tr>\n",
       "  </tbody>\n",
       "</table>\n",
       "</div>"
      ],
      "text/plain": [
       "         Linear  Quadratic\n",
       "Train  4.056770   3.790046\n",
       "Test   6.547541   7.987383"
      ]
     },
     "execution_count": 7,
     "metadata": {},
     "output_type": "execute_result"
    }
   ],
   "source": [
    "# 4. Test models\n",
    "\n",
    "# 4.1 Predictors\n",
    "li_train_pred = li_regrs.predict(train_df)\n",
    "li_test_pred = li_regrs.predict(test_df)\n",
    "\n",
    "qd_train_pred = qd_regrs.predict(train_df)\n",
    "qd_test_pred = qd_regrs.predict(test_df)\n",
    "\n",
    "# 4.2 Mean Square Error\n",
    "li_train_error = mean_squared_error(train_df['y'], li_train_pred)\n",
    "li_test_error = mean_squared_error(test_df['y'], li_test_pred)\n",
    "\n",
    "qd_train_error = mean_squared_error(train_df['y'], qd_train_pred)\n",
    "qd_test_error = mean_squared_error(test_df['y'], qd_test_pred)\n",
    "\n",
    "li, qd = (li_train_error, li_test_error), (qd_train_error, qd_test_error) \n",
    "\n",
    "# 4.3 Results\n",
    "regression_fit = pd.DataFrame({'Linear': li, 'Quadratic': qd}, index=('Train', 'Test'))\n",
    "regression_fit"
   ]
  },
  {
   "cell_type": "markdown",
   "metadata": {},
   "source": [
    "Seems like the quadratic regression is overfitted, having a lower MSE for the train data, but not for the test data in comparison with the linear regression"
   ]
  },
  {
   "cell_type": "markdown",
   "metadata": {},
   "source": [
    "### QUESTION\n",
    "I'm trying to scatter the test data and plot both regressions with no success, any ideas?"
   ]
  }
 ],
 "metadata": {
  "anaconda-cloud": {},
  "kernelspec": {
   "display_name": "Python [default]",
   "language": "python",
   "name": "python2"
  },
  "language_info": {
   "codemirror_mode": {
    "name": "ipython",
    "version": 2
   },
   "file_extension": ".py",
   "mimetype": "text/x-python",
   "name": "python",
   "nbconvert_exporter": "python",
   "pygments_lexer": "ipython2",
   "version": "2.7.12"
  }
 },
 "nbformat": 4,
 "nbformat_minor": 1
}
