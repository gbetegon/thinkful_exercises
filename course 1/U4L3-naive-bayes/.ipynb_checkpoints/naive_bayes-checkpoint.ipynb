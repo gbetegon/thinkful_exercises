{
 "cells": [
  {
   "cell_type": "code",
   "execution_count": 65,
   "metadata": {
    "collapsed": true
   },
   "outputs": [],
   "source": [
    "import pandas as pd\n",
    "import matplotlib.pyplot as plt\n",
    "import numpy as np\n",
    "from sklearn.naive_bayes import GaussianNB"
   ]
  },
  {
   "cell_type": "markdown",
   "metadata": {},
   "source": [
    "## Data Cleaning and Exploration"
   ]
  },
  {
   "cell_type": "code",
   "execution_count": 66,
   "metadata": {
    "collapsed": false
   },
   "outputs": [
    {
     "data": {
      "text/html": [
       "<div>\n",
       "<table border=\"1\" class=\"dataframe\">\n",
       "  <thead>\n",
       "    <tr style=\"text-align: right;\">\n",
       "      <th></th>\n",
       "      <th>id</th>\n",
       "      <th>sex</th>\n",
       "      <th>actual</th>\n",
       "      <th>ideal</th>\n",
       "      <th>diff</th>\n",
       "    </tr>\n",
       "  </thead>\n",
       "  <tbody>\n",
       "    <tr>\n",
       "      <th>0</th>\n",
       "      <td>0</td>\n",
       "      <td>Male</td>\n",
       "      <td>215</td>\n",
       "      <td>190</td>\n",
       "      <td>25</td>\n",
       "    </tr>\n",
       "    <tr>\n",
       "      <th>1</th>\n",
       "      <td>1</td>\n",
       "      <td>Female</td>\n",
       "      <td>155</td>\n",
       "      <td>135</td>\n",
       "      <td>20</td>\n",
       "    </tr>\n",
       "    <tr>\n",
       "      <th>2</th>\n",
       "      <td>2</td>\n",
       "      <td>Male</td>\n",
       "      <td>195</td>\n",
       "      <td>155</td>\n",
       "      <td>40</td>\n",
       "    </tr>\n",
       "    <tr>\n",
       "      <th>3</th>\n",
       "      <td>3</td>\n",
       "      <td>Female</td>\n",
       "      <td>145</td>\n",
       "      <td>130</td>\n",
       "      <td>15</td>\n",
       "    </tr>\n",
       "    <tr>\n",
       "      <th>4</th>\n",
       "      <td>4</td>\n",
       "      <td>Female</td>\n",
       "      <td>110</td>\n",
       "      <td>100</td>\n",
       "      <td>10</td>\n",
       "    </tr>\n",
       "  </tbody>\n",
       "</table>\n",
       "</div>"
      ],
      "text/plain": [
       "   id     sex  actual  ideal  diff\n",
       "0   0    Male     215    190    25\n",
       "1   1  Female     155    135    20\n",
       "2   2    Male     195    155    40\n",
       "3   3  Female     145    130    15\n",
       "4   4  Female     110    100    10"
      ]
     },
     "execution_count": 66,
     "metadata": {},
     "output_type": "execute_result"
    }
   ],
   "source": [
    "## Load data and remove single quotation from columns and sex values\n",
    "ideal_weight = pd.read_csv('/Users/Stephanie/desktop/thinkful/projects/U4L3-naive-bayes/ideal_weight.csv')\n",
    "\n",
    "ideal_weight.columns = ideal_weight.columns.map(lambda x: x[1:-1])\n",
    "ideal_weight\n",
    "\n",
    "ideal_weight['sex'] = ideal_weight['sex'].map(lambda x: 'Female' if x == \"'Female'\" else 'Male') # Check if else??\n",
    "ideal_weight.head()"
   ]
  },
  {
   "cell_type": "code",
   "execution_count": 67,
   "metadata": {
    "collapsed": false
   },
   "outputs": [
    {
     "data": {
      "image/png": "[encoded data removed]",
      "text/plain": [
       "<matplotlib.figure.Figure at 0x116ae3e10>"
      ]
     },
     "metadata": {},
     "output_type": "display_data"
    }
   ],
   "source": [
    "## Plot the distributions of actual weight and ideal weight.\n",
    "plt.figure('Dist. of Weight - Actual vs Ideal')\n",
    "x = ideal_weight['actual']\n",
    "y = ideal_weight['ideal']\n",
    "bins=np.linspace(80, 240, 20)\n",
    "plt.hist(x, bins, alpha=0.5, label='Actual', color='green') \n",
    "plt.hist(y, bins, alpha=0.5, label='Ideal', color ='blue')\n",
    "plt.legend(loc='upper right')\n",
    "plt.show()"
   ]
  },
  {
   "cell_type": "code",
   "execution_count": 68,
   "metadata": {
    "collapsed": false
   },
   "outputs": [
    {
     "data": {
      "image/png": "[encoded data removed]",
      "text/plain": [
       "<matplotlib.figure.Figure at 0x116ac8910>"
      ]
     },
     "metadata": {},
     "output_type": "display_data"
    }
   ],
   "source": [
    "## Plot the distributions of difference in weight\n",
    "plt.figure('Dist. of Weight - Difference')\n",
    "z = ideal_weight['diff']\n",
    "bins=np.linspace(-40, 60, 20)\n",
    "plt.hist(z, bins, alpha=0.5, label='Difference', color='red') \n",
    "plt.legend(loc='upper right')\n",
    "plt.show()"
   ]
  },
  {
   "cell_type": "code",
   "execution_count": 69,
   "metadata": {
    "collapsed": false
   },
   "outputs": [
    {
     "data": {
      "text/html": [
       "<div>\n",
       "<table border=\"1\" class=\"dataframe\">\n",
       "  <thead>\n",
       "    <tr style=\"text-align: right;\">\n",
       "      <th></th>\n",
       "      <th>id</th>\n",
       "      <th>sex</th>\n",
       "      <th>actual</th>\n",
       "      <th>ideal</th>\n",
       "      <th>diff</th>\n",
       "      <th>sex_bin</th>\n",
       "    </tr>\n",
       "  </thead>\n",
       "  <tbody>\n",
       "    <tr>\n",
       "      <th>0</th>\n",
       "      <td>0</td>\n",
       "      <td>Male</td>\n",
       "      <td>215</td>\n",
       "      <td>190</td>\n",
       "      <td>25</td>\n",
       "      <td>0</td>\n",
       "    </tr>\n",
       "    <tr>\n",
       "      <th>1</th>\n",
       "      <td>1</td>\n",
       "      <td>Female</td>\n",
       "      <td>155</td>\n",
       "      <td>135</td>\n",
       "      <td>20</td>\n",
       "      <td>1</td>\n",
       "    </tr>\n",
       "    <tr>\n",
       "      <th>2</th>\n",
       "      <td>2</td>\n",
       "      <td>Male</td>\n",
       "      <td>195</td>\n",
       "      <td>155</td>\n",
       "      <td>40</td>\n",
       "      <td>0</td>\n",
       "    </tr>\n",
       "  </tbody>\n",
       "</table>\n",
       "</div>"
      ],
      "text/plain": [
       "   id     sex  actual  ideal  diff  sex_bin\n",
       "0   0    Male     215    190    25        0\n",
       "1   1  Female     155    135    20        1\n",
       "2   2    Male     195    155    40        0"
      ]
     },
     "execution_count": 69,
     "metadata": {},
     "output_type": "execute_result"
    }
   ],
   "source": [
    "# Map \"sex\" to a categorical variable\n",
    "\n",
    "ideal_weight['sex_bin'] = ideal_weight['sex'].map(lambda x: 1 if x == 'Female' else 0)\n",
    "ideal_weight.head(3)"
   ]
  },
  {
   "cell_type": "code",
   "execution_count": 70,
   "metadata": {
    "collapsed": false
   },
   "outputs": [
    {
     "name": "stdout",
     "output_type": "stream",
     "text": [
      "There are more women than men: 119 compared to 63\n"
     ]
    }
   ],
   "source": [
    "# Are there more women or men in the dataset?\n",
    "\n",
    "femCount, maleCount = ideal_weight.sex[ideal_weight.sex == 'Female'].count(), ideal_weight.sex[ideal_weight.sex == 'Male'].count() # Check Pythonic way to write this code()\n",
    "\n",
    "d = {\"women\": femCount, \"men\": maleCount}\n",
    "print(\"There are more {} than {}: {} compared to {}\".format(max(d, key=d.get), min(d, key=d.get), max(femCount, maleCount), min(femCount, maleCount)))"
   ]
  },
  {
   "cell_type": "markdown",
   "metadata": {},
   "source": [
    "## NAIVE BAYES ANALYSIS"
   ]
  },
  {
   "cell_type": "code",
   "execution_count": 71,
   "metadata": {
    "collapsed": false
   },
   "outputs": [
    {
     "name": "stdout",
     "output_type": "stream",
     "text": [
      "14 points mislabelled out of 182\n"
     ]
    }
   ],
   "source": [
    "# Fit a Naive Bayes classifier of sex to actual weight, ideal weight, and diff.\n",
    "X = ideal_weight[['actual', 'ideal', 'diff']]\n",
    "Y = ideal_weight['sex_bin']\n",
    "clf = GaussianNB()\n",
    "\n",
    "clf.fit(X, Y)\n",
    "\n",
    "# How many points were mislabeled? How many points were there in the dataset, total?\n",
    "sex_predict = clf.predict(X)\n",
    "print(\"{} points mislabelled out of {}\".format((Y != sex_predict).sum(), len(Y)))"
   ]
  },
  {
   "cell_type": "code",
   "execution_count": 72,
   "metadata": {
    "collapsed": false
   },
   "outputs": [
    {
     "name": "stdout",
     "output_type": "stream",
     "text": [
      "the result is [0], sex = Male\n",
      "the result is [1], sex = Female\n"
     ]
    }
   ],
   "source": [
    "# Predict the sex for an actual weight of 145, an ideal weight of 160, and a diff of -15 (and viceversa).\n",
    "guess_1 = clf.predict([[145, 160, 15]])\n",
    "guess_2 = clf.predict([[160, 145, 15]])\n",
    "print(\"the result is {}, sex = {}\".format(guess_1, \"Male\" if guess_1 == [0] else \"Female\"))\n",
    "print(\"the result is {}, sex = {}\".format(guess_2, \"Male\" if guess_2 == [0] else \"Female\"))"
   ]
  }
 ],
 "metadata": {
  "anaconda-cloud": {},
  "kernelspec": {
   "display_name": "Python [default]",
   "language": "python",
   "name": "python2"
  },
  "language_info": {
   "codemirror_mode": {
    "name": "ipython",
    "version": 2
   },
   "file_extension": ".py",
   "mimetype": "text/x-python",
   "name": "python",
   "nbconvert_exporter": "python",
   "pygments_lexer": "ipython2",
   "version": "2.7.12"
  }
 },
 "nbformat": 4,
 "nbformat_minor": 1
}
