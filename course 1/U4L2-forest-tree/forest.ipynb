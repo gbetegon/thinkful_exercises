{
 "cells": [
  {
   "cell_type": "code",
   "execution_count": 101,
   "metadata": {
    "collapsed": true
   },
   "outputs": [],
   "source": [
    "import pandas as pd\n",
    "from sklearn.ensemble import RandomForestClassifier\n",
    "from sklearn.metrics import confusion_matrix\n",
    "from sklearn.metrics import recall_score\n",
    "import numpy as np\n",
    "import matplotlib.pyplot as plt"
   ]
  },
  {
   "cell_type": "markdown",
   "metadata": {},
   "source": [
    "## Lesson 3"
   ]
  },
  {
   "cell_type": "code",
   "execution_count": 102,
   "metadata": {
    "collapsed": false
   },
   "outputs": [],
   "source": [
    "samgTrain = pd.read_csv('https://raw.githubusercontent.com/nborwankar/LearnDataScience/master/datasets/samsung/samtrain.csv')\n",
    "samgVal = pd.read_csv('https://raw.githubusercontent.com/nborwankar/LearnDataScience/master/datasets/samsung/samval.csv')\n",
    "samgTest = pd.read_csv('https://raw.githubusercontent.com/nborwankar/LearnDataScience/master/datasets/samsung/samtest.csv')\n",
    "\n",
    "samgTrain = samgTrain.set_index('Unnamed: 0', drop=True)\n",
    "samgVal = samgVal.set_index('Unnamed: 0', drop=True)\n",
    "samgTest = samgTest.set_index('Unnamed: 0', drop=True)"
   ]
  },
  {
   "cell_type": "code",
   "execution_count": 103,
   "metadata": {
    "collapsed": false
   },
   "outputs": [
    {
     "name": "stdout",
     "output_type": "stream",
     "text": [
      "feature importance ranking:\n",
      "[(0.1849, 'angleYGravity'), (0.1389, 'angleXGravity'), (0.0562, 'fAccMean'), (0.0522, 'tAccStd'), (0.0504, 'fAccSD'), (0.049, 'fJerkMeanFreq'), (0.0475, 'angleZGravity'), (0.0435, 'tJerkSD'), (0.0417, 'tJerkMean'), (0.0368, 'tGyroJerkMean'), (0.036, 'fGyroMean'), (0.0355, 'tAccMean'), (0.0318, 'fAccSkewness'), (0.0221, 'tGyroMean'), (0.0186, 'fGyroJerkSkewness'), (0.0175, 'fAccKurtosis'), (0.0151, 'fAccMeanFreq'), (0.0127, 'tGyroJerkMagSD'), (0.0092, 'angleGyroGravity'), (0.0082, 'subject'), (0.0078, 'fGyroJerkKurtosis'), (0.0076, 'fGyroKurtosis'), (0.0074, 'fJerkKurtosis'), (0.0073, 'fGyroJerkMeanFreq'), (0.0072, 'fJerkMean'), (0.0069, 'fJerkSD'), (0.0069, 'fGyroJerkSD'), (0.0065, 'angleGyroJerkGravity'), (0.0061, 'tGyroSD'), (0.0048, 'fJerkSkewness'), (0.0048, 'fGyroSD'), (0.0044, 'fGyroSkewness'), (0.0038, 'angleJerkGravity'), (0.0038, 'angleAccGravity'), (0.0036, 'fGyroMeanFreq'), (0.0032, 'fGyroJerkMean')]\n"
     ]
    }
   ],
   "source": [
    "# Separate sets in features an outcome\n",
    "featuresTrain = samgTrain.ix[:, samgTrain.columns != 'activity']\n",
    "featuresVal = samgVal.ix[:, samgTrain.columns != 'activity']\n",
    "featuresTest = samgTest.ix[:, samgTrain.columns != 'activity']\n",
    "outcomeTrain = samgTrain['activity']\n",
    "outcomeVal = samgVal['activity']\n",
    "outcomeTest = samgTest['activity']\n",
    "\n",
    "# Create Random Forest\n",
    "rfc = RandomForestClassifier(n_estimators=500, oob_score=True)\n",
    "model = rfc.fit(featuresTrain, outcomeTrain)\n",
    "\n",
    "# Print ranking\n",
    "print('feature importance ranking:')\n",
    "print sorted(zip(map(lambda x: round(x, 4), rfc.feature_importances_), samgTrain), reverse=True)"
   ]
  },
  {
   "cell_type": "code",
   "execution_count": 104,
   "metadata": {
    "collapsed": false
   },
   "outputs": [
    {
     "name": "stdout",
     "output_type": "stream",
     "text": [
      "the accuracy for the validation and test sets is 0.835436382755 and 0.896296296296\n"
     ]
    }
   ],
   "source": [
    "# Check accuracy on validation and test sets\n",
    "accuracy_val, accuracy_test = rfc.score(featuresVal, outcomeVal), rfc.score(featuresTest, outcomeTest)\n",
    "print('the accuracy for the validation and test sets is {} and {}'.format(accuracy_val, accuracy_test))"
   ]
  },
  {
   "cell_type": "code",
   "execution_count": 105,
   "metadata": {
    "collapsed": false
   },
   "outputs": [
    {
     "data": {
      "text/plain": [
       "0.98403041825095061"
      ]
     },
     "execution_count": 105,
     "metadata": {},
     "output_type": "execute_result"
    }
   ],
   "source": [
    "lesson1_oob = rfc.oob_score_\n",
    "lesson1_oob"
   ]
  },
  {
   "cell_type": "code",
   "execution_count": 106,
   "metadata": {
    "collapsed": false
   },
   "outputs": [
    {
     "name": "stdout",
     "output_type": "stream",
     "text": [
      "Recall score for validation set is 0.835436382755\n",
      "Recall score for test set is 0.896296296296\n"
     ]
    }
   ],
   "source": [
    "# Predict data\n",
    "\n",
    "predictorVal = rfc.predict(featuresVal)\n",
    "predictorTest = rfc.predict(featuresTest)\n",
    "print('Recall score for validation set is {}'.format(recall_score(outcomeVal, predictorVal, average='weighted')))\n",
    "print('Recall score for test set is {}'.format(recall_score(outcomeTest, predictorTest, average='weighted')))"
   ]
  },
  {
   "cell_type": "markdown",
   "metadata": {},
   "source": [
    "## Lesson 4"
   ]
  },
  {
   "cell_type": "code",
   "execution_count": 107,
   "metadata": {
    "collapsed": false
   },
   "outputs": [
    {
     "name": "stdout",
     "output_type": "stream",
     "text": [
      "Index([u'x0', u'x1', u'x2', u'x3', u'x4', u'x5', u'x6', u'x7', u'x8', u'x9',\n",
      "       u'x10', u'x11', u'x12', u'x13', u'x14', u'x15', u'x16', u'x17', u'x18',\n",
      "       u'x19', u'x20', u'x21', u'x22', u'x23', u'x24', u'x25', u'x26', u'x27',\n",
      "       u'x28', u'x29', u'x30', u'x31', u'x32', u'x33', u'x34', u'subject',\n",
      "       u'activity'],\n",
      "      dtype='object')\n"
     ]
    }
   ],
   "source": [
    "# Concatena training, test and validate sets and rename column names\n",
    "samsung = pd.concat([samgTrain, samgTest, samgVal])\n",
    "samsung_col_names = samsung.columns\n",
    "number = 0\n",
    "for name in samsung.columns[:-2]:\n",
    "    samsung = samsung.rename(index=str, columns={name: 'x{}'.format(number)})\n",
    "    number += 1\n",
    "print samsung.columns"
   ]
  },
  {
   "cell_type": "code",
   "execution_count": 108,
   "metadata": {
    "collapsed": false
   },
   "outputs": [],
   "source": [
    "# Split dataframe into training, test and validate sets under new criteria\n",
    "samgTrain_2 = samsung[samsung['subject'] >= 27]\n",
    "samgTest_2 = samsung[samsung['subject'] <= 6]\n",
    "samgVal_2 = samsung[(samsung['subject'] >= 21) & (samsung['subject'] <= 27)]"
   ]
  },
  {
   "cell_type": "code",
   "execution_count": 109,
   "metadata": {
    "collapsed": false
   },
   "outputs": [
    {
     "name": "stdout",
     "output_type": "stream",
     "text": [
      "feature importance ranking:\n",
      "[(0.1608, 'x32'), (0.1452, 'x33'), (0.0968, 'x34'), (0.0595, 'x2'), (0.0585, 'x8'), (0.0536, 'x1'), (0.049, 'x0'), (0.0456, 'x6'), (0.0453, 'x9'), (0.0342, 'x24'), (0.0341, 'x23'), (0.0304, 'x4'), (0.0236, 'x7'), (0.02, 'x14'), (0.0147, 'x13'), (0.0141, 'x3'), (0.0134, 'x18'), (0.0117, 'x20'), (0.01, 'x5'), (0.01, 'x10'), (0.0095, 'x30'), (0.0094, 'x31'), (0.0058, 'x19'), (0.0053, 'x21'), (0.005, 'x11'), (0.0048, 'x26'), (0.0047, 'x22'), (0.0044, 'subject'), (0.0033, 'x12'), (0.0032, 'x25'), (0.0031, 'x27'), (0.0029, 'x28'), (0.0024, 'x15'), (0.0021, 'x29'), (0.0021, 'x16'), (0.0016, 'x17')]\n"
     ]
    }
   ],
   "source": [
    "# Separate sets in features an object\n",
    "featuresTrain_2 = samgTrain_2.ix[:, samgTrain.columns != 'activity']\n",
    "featuresVal_2 = samgVal_2.ix[:, samgTrain.columns != 'activity']\n",
    "featuresTest_2 = samgTest_2.ix[:, samgTrain.columns != 'activity']\n",
    "outcomeTrain_2 = samgTrain_2['activity']\n",
    "outcomeVal_2 = samgVal_2['activity']\n",
    "outcomeTest_2 = samgTest_2['activity']\n",
    "\n",
    "# Create Random Forest\n",
    "rfc_2 = RandomForestClassifier(n_estimators=50, oob_score=True)\n",
    "model_2 = rfc_2.fit(featuresTrain_2, outcomeTrain_2)\n",
    "\n",
    "# Print ranking\n",
    "print('feature importance ranking:')\n",
    "print sorted(zip(map(lambda x: round(x, 4), rfc_2.feature_importances_), samgTrain_2), reverse=True)"
   ]
  },
  {
   "cell_type": "code",
   "execution_count": 110,
   "metadata": {
    "collapsed": false
   },
   "outputs": [
    {
     "data": {
      "text/plain": [
       "0.9811447811447811"
      ]
     },
     "execution_count": 110,
     "metadata": {},
     "output_type": "execute_result"
    }
   ],
   "source": [
    "lesson2_oob = rfc_2.oob_score_\n",
    "lesson2_oob"
   ]
  },
  {
   "cell_type": "code",
   "execution_count": 111,
   "metadata": {
    "collapsed": false
   },
   "outputs": [
    {
     "name": "stdout",
     "output_type": "stream",
     "text": [
      "lesson1_oob has a higher oob_score with 0.984030418251 compared to 0.981144781145\n"
     ]
    }
   ],
   "source": [
    "d = {\"lesson1_oob\": lesson1_oob, \"lesson2_oob\": lesson2_oob}\n",
    "print(\"{} has a higher oob_score with {} compared to {}\".format(max(d, key=d.get), max(lesson1_oob, lesson2_oob), min(lesson1_oob, lesson2_oob)))"
   ]
  },
  {
   "cell_type": "code",
   "execution_count": 112,
   "metadata": {
    "collapsed": false
   },
   "outputs": [
    {
     "data": {
      "image/png": "[encoded data removed]",
      "text/plain": [
       "<matplotlib.figure.Figure at 0x114fd4b10>"
      ]
     },
     "metadata": {},
     "output_type": "display_data"
    }
   ],
   "source": [
    "# Confussion Matrix\n",
    "cnf_matrix = confusion_matrix(outcomeTest_2, predictorTest_2)\n",
    "np.set_printoptions(precision=2)\n",
    "\n",
    "plt.imshow(cnf_matrix, interpolation='nearest', cmap=plt.cm.Reds)\n",
    "plt.title('Confusion Matrix')\n",
    "plt.colorbar()\n",
    "plt.show()"
   ]
  },
  {
   "cell_type": "code",
   "execution_count": 116,
   "metadata": {
    "collapsed": false
   },
   "outputs": [
    {
     "name": "stdout",
     "output_type": "stream",
     "text": [
      "[(0.1608, 'angleXGravity'), (0.1452, 'angleYGravity'), (0.0968, 'angleZGravity'), (0.0595, 'tJerkMean'), (0.0585, 'fAccMean'), (0.0536, 'tAccStd'), (0.049, 'tAccMean'), (0.0456, 'tGyroJerkMean'), (0.0453, 'fAccSD'), (0.0342, 'fAccKurtosis'), (0.0341, 'fGyroJerkSkewness'), (0.0304, 'tGyroMean'), (0.0236, 'tGyroJerkMagSD'), (0.02, 'fGyroMean'), (0.0147, 'fJerkMeanFreq'), (0.0141, 'tJerkSD'), (0.0134, 'fGyroJerkSD'), (0.0117, 'fAccSkewness'), (0.01, 'tGyroSD'), (0.01, 'fAccMeanFreq'), (0.0095, 'angleGyroGravity'), (0.0094, 'angleGyroJerkGravity'), (0.0058, 'fGyroJerkMeanFreq'), (0.0053, 'fJerkSkewness'), (0.005, 'fJerkMean'), (0.0048, 'fGyroKurtosis'), (0.0047, 'fGyroSkewness'), (0.0044, 'subject'), (0.0033, 'fJerkSD'), (0.0032, 'fJerkKurtosis'), (0.0031, 'fGyroJerkKurtosis'), (0.0029, 'angleAccGravity'), (0.0024, 'fGyroSD'), (0.0021, 'fGyroMeanFreq'), (0.0021, 'angleJerkGravity'), (0.0016, 'fGyroJerkMean')]\n"
     ]
    }
   ],
   "source": [
    "samsung_col_names = samsung.columns\n",
    "print sorted(zip(map(lambda x: round(x, 4), rfc_2.feature_importances_), samsung), reverse=True)"
   ]
  },
  {
   "cell_type": "code",
   "execution_count": null,
   "metadata": {
    "collapsed": true
   },
   "outputs": [],
   "source": []
  }
 ],
 "metadata": {
  "anaconda-cloud": {},
  "kernelspec": {
   "display_name": "Python [default]",
   "language": "python",
   "name": "python2"
  },
  "language_info": {
   "codemirror_mode": {
    "name": "ipython",
    "version": 2
   },
   "file_extension": ".py",
   "mimetype": "text/x-python",
   "name": "python",
   "nbconvert_exporter": "python",
   "pygments_lexer": "ipython2",
   "version": "2.7.12"
  }
 },
 "nbformat": 4,
 "nbformat_minor": 1
}
