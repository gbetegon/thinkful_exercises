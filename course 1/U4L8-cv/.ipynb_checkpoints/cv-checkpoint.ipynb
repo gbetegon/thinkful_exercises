{
 "cells": [
  {
   "cell_type": "markdown",
   "metadata": {},
   "source": [
    "## QUESTIONS\n",
    "\n",
    "Question 1 (Input 92): Why do I get different results if I use Kfold or directly indicate the number "
   ]
  },
  {
   "cell_type": "code",
   "execution_count": 131,
   "metadata": {
    "collapsed": false
   },
   "outputs": [],
   "source": [
    "from sklearn import datasets\n",
    "from sklearn.model_selection import train_test_split\n",
    "from sklearn.model_selection import KFold\n",
    "from sklearn.model_selection import cross_val_predict\n",
    "from sklearn.metrics import f1_score\n",
    "from sklearn.model_selection import cross_val_score\n",
    "from sklearn.model_selection import cross_val_predict\n",
    "from sklearn.metrics import (brier_score_loss, precision_score, recall_score,\n",
    "                             f1_score)\n",
    "from sklearn import svm\n",
    "import pandas"
   ]
  },
  {
   "cell_type": "markdown",
   "metadata": {},
   "source": [
    "## Assignment 1"
   ]
  },
  {
   "cell_type": "code",
   "execution_count": 132,
   "metadata": {
    "collapsed": false
   },
   "outputs": [
    {
     "name": "stdout",
     "output_type": "stream",
     "text": [
      "(90, 4) (60, 4) (90,) (60,)\n"
     ]
    }
   ],
   "source": [
    "# Use the cross_validation.train_test_split() helper function to split the Iris dataset \n",
    "# into training and test sets, holding out 40% of the data for testing.\n",
    "# How many points do you have in your training set? In your test set?\n",
    "iris = datasets.load_iris()\n",
    "\n",
    "data = iris.data\n",
    "target = iris.target\n",
    "\n",
    "data_train, data_test, target_train, target_test = train_test_split(\n",
    "data, target, test_size=0.4, random_state=42)\n",
    "\n",
    "\n",
    "print data_train.shape, data_test.shape, target_train.shape, target_test.shape"
   ]
  },
  {
   "cell_type": "code",
   "execution_count": 133,
   "metadata": {
    "collapsed": false
   },
   "outputs": [
    {
     "name": "stdout",
     "output_type": "stream",
     "text": [
      "0.977777777778\n"
     ]
    }
   ],
   "source": [
    "#Fit a linear Support Vector Classifier to the training set and evaluate its performance on the test set.\n",
    "#What is the score? How does it compare to the score in the Support Vector Machine lesson?\n",
    "svc = svm.SVC(kernel='linear')\n",
    "X_train = data_train\n",
    "Y_train = target_train\n",
    "model = svc.fit(X_train, y_train)\n",
    "print model.score(X_train, y_train)"
   ]
  },
  {
   "cell_type": "code",
   "execution_count": 134,
   "metadata": {
    "collapsed": false
   },
   "outputs": [
    {
     "data": {
      "text/plain": [
       "0.99333333333333329"
      ]
     },
     "execution_count": 134,
     "metadata": {},
     "output_type": "execute_result"
    }
   ],
   "source": [
    "svc = svm.SVC(kernel='linear')\n",
    "X = iris.data\n",
    "y = iris.target\n",
    "old_model = svc.fit(X, y)\n",
    "old_model.score(X, y)\n"
   ]
  },
  {
   "cell_type": "markdown",
   "metadata": {},
   "source": [
    "## Project 2"
   ]
  },
  {
   "cell_type": "code",
   "execution_count": 135,
   "metadata": {
    "collapsed": false
   },
   "outputs": [
    {
     "name": "stdout",
     "output_type": "stream",
     "text": [
      "[ 1.          1.          0.86666667  1.          0.86666667]\n",
      "Accuracy: 0.95 (+/- 0.13)\n",
      "[ 0.96666667  1.          0.96666667  0.96666667  1.        ]\n",
      "Accuracy: 0.98 (+/- 0.03)\n"
     ]
    }
   ],
   "source": [
    "# Compute the 5-fold cross-validation score of the SVC from the last assignment.\n",
    "# Compute the mean score and the standard deviation of the scores.\n",
    "\n",
    "#whit kfold\n",
    "kfold = KFold(n_splits=5)\n",
    "\n",
    "clf = svm.SVC(kernel='linear', C=1)\n",
    "scores = cross_val_score(clf, iris.data, iris.target, cv=kfold)\n",
    "print scores\n",
    "print(\"Accuracy: %0.2f (+/- %0.2f)\" % (scores.mean(), scores.std() * 2))\n",
    "\n",
    "#without kfold\n",
    "clf = svm.SVC(kernel='linear', C=1)\n",
    "scores = cross_val_score(clf, iris.data, iris.target, cv=5)\n",
    "print scores\n",
    "print(\"Accuracy: %0.2f (+/- %0.2f)\" % (scores.mean(), scores.std() * 2))"
   ]
  },
  {
   "cell_type": "code",
   "execution_count": 140,
   "metadata": {
    "collapsed": false
   },
   "outputs": [
    {
     "name": "stdout",
     "output_type": "stream",
     "text": [
      "\tPrecision: 1.000\n",
      "\tRecall: 1.000\n",
      "\tF1: 1.000\n",
      "\n"
     ]
    }
   ],
   "source": [
    "# How do the accuracy scores compare to the F1 scores for this dataset?\n",
    "svc = svm.SVC(kernel='linear')\n",
    "X_train = data_train\n",
    "Y_train = target_train\n",
    "model = svc.fit(X_train, y_train)\n",
    "y_pred = model.predict(X_test)\n",
    "\n",
    "print(\"\\tPrecision: %1.3f\" % precision_score(y_test, y_pred, average='weighted'))\n",
    "print(\"\\tRecall: %1.3f\" % recall_score(y_test, y_pred, average='weighted'))\n",
    "print(\"\\tF1: %1.3f\\n\" % f1_score(y_test, y_pred, average='weighted'))"
   ]
  }
 ],
 "metadata": {
  "anaconda-cloud": {},
  "kernelspec": {
   "display_name": "Python [default]",
   "language": "python",
   "name": "python2"
  },
  "language_info": {
   "codemirror_mode": {
    "name": "ipython",
    "version": 2
   },
   "file_extension": ".py",
   "mimetype": "text/x-python",
   "name": "python",
   "nbconvert_exporter": "python",
   "pygments_lexer": "ipython2",
   "version": "2.7.12"
  }
 },
 "nbformat": 4,
 "nbformat_minor": 1
}
