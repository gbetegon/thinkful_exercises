{
 "cells": [
  {
   "cell_type": "markdown",
   "metadata": {},
   "source": [
    "## QUESTIONS\n",
    "\n",
    "#### I have an intuitive understanding, but don't fully get the results. They're abstract. Since I don't fully understand them, I'm not sure how to plot as the curriculum the data"
   ]
  },
  {
   "cell_type": "code",
   "execution_count": 430,
   "metadata": {
    "collapsed": false
   },
   "outputs": [],
   "source": [
    "import pandas as pd\n",
    "import numpy as np\n",
    "import scipy as sp\n",
    "import matplotlib.pyplot as plt\n",
    "from scipy.cluster.vq import vq, kmeans, whiten"
   ]
  },
  {
   "cell_type": "code",
   "execution_count": 431,
   "metadata": {
    "collapsed": false
   },
   "outputs": [],
   "source": [
    "# Load the UN countries data set.\n",
    "UN_data = pd.read_csv('https://raw.githubusercontent.com/Thinkful-Ed/curric-data-001-data-sets/master/un/un.csv')"
   ]
  },
  {
   "cell_type": "code",
   "execution_count": 432,
   "metadata": {
    "collapsed": false,
    "scrolled": true
   },
   "outputs": [
    {
     "name": "stdout",
     "output_type": "stream",
     "text": [
      "there are 207 rows in the data\n"
     ]
    },
    {
     "data": {
      "text/plain": [
       "country                     0\n",
       "region                      0\n",
       "infantMortality             6\n",
       "tfr                        10\n",
       "GDPperCapita               10\n",
       "lifeMale                   11\n",
       "lifeFemale                 11\n",
       "economicActivityMale       42\n",
       "economicActivityFemale     42\n",
       "illiteracyMale             47\n",
       "illiteracyFemale           47\n",
       "contraception              63\n",
       "educationMale             131\n",
       "educationFemale           131\n",
       "dtype: int64"
      ]
     },
     "execution_count": 432,
     "metadata": {},
     "output_type": "execute_result"
    }
   ],
   "source": [
    "# Determine how many rows are in the dataset.\n",
    "print \"there are {} rows in the data\".format(len(UN_data))\n",
    "\n",
    "# Determine the number of non-null values present in each column.\n",
    "nulls = UN_data.isnull().sum()\n",
    "nulls.sort_values()"
   ]
  },
  {
   "cell_type": "markdown",
   "metadata": {},
   "source": [
    "##### InfantMortality, tft, GDPperCapita, lifeMale and lifeFemale look like the best variables to cluster given they have the lowest levels of null values"
   ]
  },
  {
   "cell_type": "code",
   "execution_count": 433,
   "metadata": {
    "collapsed": false
   },
   "outputs": [
    {
     "name": "stdout",
     "output_type": "stream",
     "text": [
      "object\n",
      "object\n",
      "float64\n",
      "float64\n",
      "float64\n",
      "float64\n",
      "float64\n",
      "float64\n",
      "float64\n",
      "float64\n",
      "float64\n",
      "float64\n",
      "float64\n",
      "float64\n"
     ]
    }
   ],
   "source": [
    "# Determine the data type of each column.\n",
    "for column in UN_data.columns:\n",
    "    print UN_data[column].dtype"
   ]
  },
  {
   "cell_type": "code",
   "execution_count": 434,
   "metadata": {
    "collapsed": false
   },
   "outputs": [
    {
     "name": "stdout",
     "output_type": "stream",
     "text": [
      "there are 207 countries\n"
     ]
    }
   ],
   "source": [
    "# How many countries are present in the dataset?\n",
    "print \"there are {} countries\".format(len(UN_data['country'].unique().tolist()))"
   ]
  },
  {
   "cell_type": "code",
   "execution_count": 435,
   "metadata": {
    "collapsed": false
   },
   "outputs": [],
   "source": [
    "# We're going to explore 1 to 10 clusters. Define a range K from 1 to 10.\n",
    "\n",
    "K = range(1,11)\n",
    "\n",
    "# Apply scipy.cluster.vq.kmeans 1 to 10 and determine the cluster centroids.\n",
    "# Calculate the distance between each point and each cluster centroid.\n",
    "# Determine the closest centroid for each point.\n",
    "\n",
    "data = UN_data.loc[:,('lifeMale', 'lifeFemale', 'infantMortality', 'GDPperCapita')]\n",
    "data.dropna(inplace=True)\n",
    "whiten_data = whiten(data)\n",
    "\n",
    "centroids = {}\n",
    "for k in K:\n",
    "    codebook, distortion = kmeans(whiten_data, k)\n",
    "    code, dist = vq(whiten_data, codebook)\n",
    "    centroid = np.array(dist).tolist()\n",
    "    centroids[k] = centroid"
   ]
  },
  {
   "cell_type": "code",
   "execution_count": 436,
   "metadata": {
    "collapsed": false
   },
   "outputs": [
    {
     "name": "stdout",
     "output_type": "stream",
     "text": [
      "{1: 4.0, 2: 1.5, 3: 0.7, 4: 0.5, 5: 0.4, 6: 0.3, 7: 0.3, 8: 0.2, 9: 0.2, 10: 0.2}\n"
     ]
    }
   ],
   "source": [
    "# Calculate the average within-cluster sum of squares for each centroid.\n",
    "distances = {}\n",
    "for k, c in centroids.iteritems():\n",
    "    sumOfSquares = 0\n",
    "    for centroid in c:\n",
    "        sumOfSquares += centroid**2\n",
    "    distances[k] = round(sumOfSquares / len(v), 1)\n",
    "\n",
    "print distances,"
   ]
  },
  {
   "cell_type": "code",
   "execution_count": 437,
   "metadata": {
    "collapsed": false
   },
   "outputs": [
    {
     "data": {
      "image/png": "[encoded data removed]",
      "text/plain": [
       "<matplotlib.figure.Figure at 0x115281b10>"
      ]
     },
     "metadata": {},
     "output_type": "display_data"
    }
   ],
   "source": [
    "# Plot the number of clusters against the average within-cluster sum of squares.\n",
    "# At what number of clusters does the curve seem to \"level out\"?\n",
    "\n",
    "x = distances.keys()\n",
    "y = distances.values()\n",
    "\n",
    "plt.plot(x, y, marker='.')\n",
    "plt.show()"
   ]
  },
  {
   "cell_type": "code",
   "execution_count": 438,
   "metadata": {
    "collapsed": false
   },
   "outputs": [
    {
     "data": {
      "image/png": "[encoded data removed]",
      "text/plain": [
       "<matplotlib.figure.Figure at 0x117ee3090>"
      ]
     },
     "metadata": {},
     "output_type": "display_data"
    }
   ],
   "source": [
    "# Cluster the UN dataset using k-means clustering with 3 clusters.\n",
    "# Plot the results\n",
    "\n",
    "codebook, distortion = kmeans(whiten_data, 3)\n",
    "code, dist = vq(whiten_data, codebook)\n",
    "\n",
    "clasif = data[code]\n",
    "claslifeMale = results[:, 0]\n",
    "lifeFemale = results[:, 1]\n",
    "infantMortality = results[:, 2]\n",
    "GDPperCapita = results[:, 3]\n",
    "\n",
    "plt.scatter(data['GDPperCapita'], data['lifeFemale'], c=code)\n",
    "plt.show()"
   ]
  }
 ],
 "metadata": {
  "anaconda-cloud": {},
  "kernelspec": {
   "display_name": "Python [default]",
   "language": "python",
   "name": "python2"
  },
  "language_info": {
   "codemirror_mode": {
    "name": "ipython",
    "version": 2
   },
   "file_extension": ".py",
   "mimetype": "text/x-python",
   "name": "python",
   "nbconvert_exporter": "python",
   "pygments_lexer": "ipython2",
   "version": "2.7.12"
  }
 },
 "nbformat": 4,
 "nbformat_minor": 1
}
