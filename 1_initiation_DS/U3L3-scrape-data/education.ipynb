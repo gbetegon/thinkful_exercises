{
 "cells": [
  {
   "cell_type": "code",
   "execution_count": 108,
   "metadata": {
    "collapsed": true
   },
   "outputs": [],
   "source": [
    "import csv\n",
    "import math\n",
    "\n",
    "import requests\n",
    "import pandas as pd\n",
    "import sqlite3 as lite\n",
    "import numpy as np\n",
    "import matplotlib.pyplot as plt\n",
    "import statsmodels.api as sm\n",
    "from bs4 import BeautifulSoup"
   ]
  },
  {
   "cell_type": "markdown",
   "metadata": {},
   "source": [
    "## Download and process URL into a Dataframe with school life data"
   ]
  },
  {
   "cell_type": "code",
   "execution_count": 109,
   "metadata": {
    "collapsed": false
   },
   "outputs": [
    {
     "data": {
      "text/html": [
       "<div>\n",
       "<table border=\"1\" class=\"dataframe\">\n",
       "  <thead>\n",
       "    <tr style=\"text-align: right;\">\n",
       "      <th></th>\n",
       "      <th>Country</th>\n",
       "      <th>Year</th>\n",
       "      <th>Total</th>\n",
       "      <th>Men</th>\n",
       "      <th>Women</th>\n",
       "    </tr>\n",
       "  </thead>\n",
       "  <tbody>\n",
       "    <tr>\n",
       "      <th>0</th>\n",
       "      <td>Afghanistan</td>\n",
       "      <td>2004</td>\n",
       "      <td>8</td>\n",
       "      <td>11</td>\n",
       "      <td>5</td>\n",
       "    </tr>\n",
       "    <tr>\n",
       "      <th>1</th>\n",
       "      <td>Albania</td>\n",
       "      <td>2004</td>\n",
       "      <td>11</td>\n",
       "      <td>11</td>\n",
       "      <td>11</td>\n",
       "    </tr>\n",
       "    <tr>\n",
       "      <th>2</th>\n",
       "      <td>Algeria</td>\n",
       "      <td>2005</td>\n",
       "      <td>13</td>\n",
       "      <td>13</td>\n",
       "      <td>13</td>\n",
       "    </tr>\n",
       "  </tbody>\n",
       "</table>\n",
       "</div>"
      ],
      "text/plain": [
       "       Country  Year  Total  Men  Women\n",
       "0  Afghanistan  2004      8   11      5\n",
       "1      Albania  2004     11   11     11\n",
       "2      Algeria  2005     13   13     13"
      ]
     },
     "execution_count": 109,
     "metadata": {},
     "output_type": "execute_result"
    }
   ],
   "source": [
    "# Download and select wanted data from soup \n",
    "r = requests.get(\"http://web.archive.org/web/20110514112442/http://unstats.un.org/unsd/demographic/products/socind/education.htm\")\n",
    "soup = BeautifulSoup(r.content)\n",
    "data = soup('table')[6].find_all('tr', 'tcont')\n",
    "data = data[:-6]\n",
    "\n",
    "# Iterate data to populate dictionary of tuples\n",
    "records = [('Country', 'Year', 'Total', 'Men', 'Women')]\n",
    "for subdata in data:\n",
    "    row = subdata.find_all('td')\n",
    "    country = str(row[0].get_text())\n",
    "    year = int(row[1].get_text())\n",
    "    total = int(row[4].get_text())\n",
    "    men = int(row[7].get_text())\n",
    "    women = int(row[10].get_text())\n",
    "    record = (country, year, total, men, women)\n",
    "    records.append(record)\n",
    "\n",
    "# Create dataframe\n",
    "school_life = pd.DataFrame(records[1:], columns=records[0])\n",
    "\n",
    "# Show result\n",
    "school_life.head(3)"
   ]
  },
  {
   "cell_type": "markdown",
   "metadata": {
    "collapsed": true
   },
   "source": [
    "## Download and store gdp info in SQLITE Database"
   ]
  },
  {
   "cell_type": "code",
   "execution_count": 110,
   "metadata": {
    "collapsed": true
   },
   "outputs": [],
   "source": [
    "# Create database\n",
    "con = lite.connect('education.db')\n",
    "cur = con.cursor()\n",
    "\n",
    "# Create and populate table gdp\n",
    "with con:\n",
    "\tcur.execute('DROP TABLE IF EXISTS gdp')\n",
    "\tcur.execute('CREATE TABLE gdp (country_name REAL, _1999 INT, _2000 INT, _2001 INT, _2002 INT, _2003 INT, _2004 INT, _2005 INT, _2006 INT, _2007 INT, _2008 INT, _2009 INT, _2010 INT);')\n",
    "\n",
    "with open('/Users/Stephanie/desktop/thinkful/projects/U3L3-scrape-data/world_bank_data/GDP.csv', 'rU') as inputFile:\n",
    "    next(inputFile) # skip the first four lines\n",
    "    next(inputFile)\n",
    "    next(inputFile)\n",
    "    next(inputFile)\n",
    "    inputReader = csv.reader(inputFile)\n",
    "    header = next(inputFile)\n",
    "    for line in inputReader:\n",
    "        with con:\n",
    "            cur.execute('INSERT INTO gdp (country_name, _1999, _2000, _2001, _2002, _2003, _2004, _2005, _2006, _2007, _2008, _2009, _2010) VALUES (\"' + line[0] + '\",\"' + '\",\"'.join(line[43:55]) + '\");')"
   ]
  },
  {
   "cell_type": "markdown",
   "metadata": {},
   "source": [
    "## Retrieve gdp table and merge with school life in one dataframe"
   ]
  },
  {
   "cell_type": "code",
   "execution_count": 111,
   "metadata": {
    "collapsed": false
   },
   "outputs": [
    {
     "data": {
      "text/html": [
       "<div>\n",
       "<table border=\"1\" class=\"dataframe\">\n",
       "  <thead>\n",
       "    <tr style=\"text-align: right;\">\n",
       "      <th></th>\n",
       "      <th>Country</th>\n",
       "      <th>Year</th>\n",
       "      <th>Total</th>\n",
       "      <th>Men</th>\n",
       "      <th>Women</th>\n",
       "      <th>country_name</th>\n",
       "      <th>_1999</th>\n",
       "      <th>_2000</th>\n",
       "      <th>_2001</th>\n",
       "      <th>_2002</th>\n",
       "      <th>_2003</th>\n",
       "      <th>_2004</th>\n",
       "      <th>_2005</th>\n",
       "      <th>_2006</th>\n",
       "      <th>_2007</th>\n",
       "      <th>_2008</th>\n",
       "      <th>_2009</th>\n",
       "      <th>_2010</th>\n",
       "    </tr>\n",
       "  </thead>\n",
       "  <tbody>\n",
       "    <tr>\n",
       "      <th>0</th>\n",
       "      <td>Afghanistan</td>\n",
       "      <td>2004</td>\n",
       "      <td>8</td>\n",
       "      <td>11</td>\n",
       "      <td>5</td>\n",
       "      <td>Afghanistan</td>\n",
       "      <td></td>\n",
       "      <td></td>\n",
       "      <td>2.46167e+09</td>\n",
       "      <td>4.12882e+09</td>\n",
       "      <td>4.58365e+09</td>\n",
       "      <td>5.28546e+09</td>\n",
       "      <td>6.27508e+09</td>\n",
       "      <td>7.0576e+09</td>\n",
       "      <td>9.84384e+09</td>\n",
       "      <td>1.01905e+10</td>\n",
       "      <td>1.24869e+10</td>\n",
       "      <td>1.59368e+10</td>\n",
       "    </tr>\n",
       "    <tr>\n",
       "      <th>1</th>\n",
       "      <td>Albania</td>\n",
       "      <td>2004</td>\n",
       "      <td>11</td>\n",
       "      <td>11</td>\n",
       "      <td>11</td>\n",
       "      <td>Albania</td>\n",
       "      <td>3.41476e+09</td>\n",
       "      <td>3.63204e+09</td>\n",
       "      <td>4.06076e+09</td>\n",
       "      <td>4.43508e+09</td>\n",
       "      <td>5.74695e+09</td>\n",
       "      <td>7.31487e+09</td>\n",
       "      <td>8.15855e+09</td>\n",
       "      <td>8.99264e+09</td>\n",
       "      <td>1.0701e+10</td>\n",
       "      <td>1.28814e+10</td>\n",
       "      <td>1.20442e+10</td>\n",
       "      <td>1.1927e+10</td>\n",
       "    </tr>\n",
       "    <tr>\n",
       "      <th>2</th>\n",
       "      <td>Algeria</td>\n",
       "      <td>2005</td>\n",
       "      <td>13</td>\n",
       "      <td>13</td>\n",
       "      <td>13</td>\n",
       "      <td>Algeria</td>\n",
       "      <td>4.86406e+10</td>\n",
       "      <td>5.47901e+10</td>\n",
       "      <td>5.47447e+10</td>\n",
       "      <td>5.67603e+10</td>\n",
       "      <td>6.78638e+10</td>\n",
       "      <td>8.5325e+10</td>\n",
       "      <td>1.03198e+11</td>\n",
       "      <td>1.17027e+11</td>\n",
       "      <td>1.34977e+11</td>\n",
       "      <td>1.71001e+11</td>\n",
       "      <td>1.37211e+11</td>\n",
       "      <td>1.61207e+11</td>\n",
       "    </tr>\n",
       "  </tbody>\n",
       "</table>\n",
       "</div>"
      ],
      "text/plain": [
       "       Country  Year  Total  Men  Women country_name        _1999  \\\n",
       "0  Afghanistan  2004      8   11      5  Afghanistan                \n",
       "1      Albania  2004     11   11     11      Albania  3.41476e+09   \n",
       "2      Algeria  2005     13   13     13      Algeria  4.86406e+10   \n",
       "\n",
       "         _2000        _2001        _2002        _2003        _2004  \\\n",
       "0               2.46167e+09  4.12882e+09  4.58365e+09  5.28546e+09   \n",
       "1  3.63204e+09  4.06076e+09  4.43508e+09  5.74695e+09  7.31487e+09   \n",
       "2  5.47901e+10  5.47447e+10  5.67603e+10  6.78638e+10   8.5325e+10   \n",
       "\n",
       "         _2005        _2006        _2007        _2008        _2009  \\\n",
       "0  6.27508e+09   7.0576e+09  9.84384e+09  1.01905e+10  1.24869e+10   \n",
       "1  8.15855e+09  8.99264e+09   1.0701e+10  1.28814e+10  1.20442e+10   \n",
       "2  1.03198e+11  1.17027e+11  1.34977e+11  1.71001e+11  1.37211e+11   \n",
       "\n",
       "         _2010  \n",
       "0  1.59368e+10  \n",
       "1   1.1927e+10  \n",
       "2  1.61207e+11  "
      ]
     },
     "execution_count": 111,
     "metadata": {},
     "output_type": "execute_result"
    }
   ],
   "source": [
    "with con:\n",
    "\tcur = con.cursor()\n",
    "\tcur.execute('SELECT * FROM gdp')\n",
    "\trows = cur.fetchall()\n",
    "\tcols = [desc[0] for desc in cur.description]\n",
    "\tgdp = pd.DataFrame(rows, columns=cols)\n",
    "\n",
    "con.close()\n",
    "\n",
    "# Merge\n",
    "merged = pd.merge(school_life, gdp, left_on='Country', right_on='country_name', how='inner')\n",
    "\n",
    "merged.head(3)"
   ]
  },
  {
   "cell_type": "markdown",
   "metadata": {},
   "source": [
    "## Insert GDP of year of analysis in GDP_year"
   ]
  },
  {
   "cell_type": "code",
   "execution_count": 112,
   "metadata": {
    "collapsed": false
   },
   "outputs": [],
   "source": [
    "year_needed = merged['Year'].tolist()\n",
    "formated_year_needed = pd.Series(['_' + str(row) for row in year_needed])\n",
    "GDP = merged.lookup(formated_year_needed.index, formated_year_needed.values)\n",
    "\n",
    "merged['GDP_year'] = GDP"
   ]
  },
  {
   "cell_type": "markdown",
   "metadata": {},
   "source": [
    "## Clean data and check correlation"
   ]
  },
  {
   "cell_type": "markdown",
   "metadata": {},
   "source": [
    "## Conclusions\n",
    "\n",
    "There's a moderate positive correlation between number of years on school and GDP, however other variables must have an important impact as well in the school life.\n",
    "\n",
    "In the cells above, we can see that as the GDP increases, so does the years of the education (but with a really high variance), although the linear regression doesn't have a high R2. Again, we see that other variables must have an important influence as well"
   ]
  },
  {
   "cell_type": "code",
   "execution_count": 113,
   "metadata": {
    "collapsed": false
   },
   "outputs": [
    {
     "name": "stdout",
     "output_type": "stream",
     "text": [
      "                Total  log_GDP_year\n",
      "Total         1.00000       0.47905\n",
      "log_GDP_year  0.47905       1.00000\n"
     ]
    }
   ],
   "source": [
    "clean_merged = merged[['Country', 'Total', 'Men', 'Women', 'Year', 'GDP_year']]\n",
    "clean_merged = clean_merged[clean_merged.GDP_year != '']        # clean empty rows\n",
    "\n",
    "# Log transform of GDP\n",
    "clean_merged['log_GDP_year'] = [math.log(row) for row in clean_merged['GDP_year']]\n",
    "\n",
    "# Show correlation\n",
    "print(clean_merged[['Total', 'log_GDP_year']].corr())"
   ]
  },
  {
   "cell_type": "code",
   "execution_count": 114,
   "metadata": {
    "collapsed": false
   },
   "outputs": [
    {
     "data": {
      "text/html": [
       "<table class=\"simpletable\">\n",
       "<caption>OLS Regression Results</caption>\n",
       "<tr>\n",
       "  <th>Dep. Variable:</th>          <td>Total</td>      <th>  R-squared:         </th> <td>   0.229</td>\n",
       "</tr>\n",
       "<tr>\n",
       "  <th>Model:</th>                   <td>OLS</td>       <th>  Adj. R-squared:    </th> <td>   0.218</td>\n",
       "</tr>\n",
       "<tr>\n",
       "  <th>Method:</th>             <td>Least Squares</td>  <th>  F-statistic:       </th> <td>   20.85</td>\n",
       "</tr>\n",
       "<tr>\n",
       "  <th>Date:</th>             <td>Wed, 25 Jan 2017</td> <th>  Prob (F-statistic):</th> <td>2.07e-05</td>\n",
       "</tr>\n",
       "<tr>\n",
       "  <th>Time:</th>                 <td>22:45:09</td>     <th>  Log-Likelihood:    </th> <td> -174.48</td>\n",
       "</tr>\n",
       "<tr>\n",
       "  <th>No. Observations:</th>      <td>    72</td>      <th>  AIC:               </th> <td>   353.0</td>\n",
       "</tr>\n",
       "<tr>\n",
       "  <th>Df Residuals:</th>          <td>    70</td>      <th>  BIC:               </th> <td>   357.5</td>\n",
       "</tr>\n",
       "<tr>\n",
       "  <th>Df Model:</th>              <td>     1</td>      <th>                     </th>     <td> </td>   \n",
       "</tr>\n",
       "<tr>\n",
       "  <th>Covariance Type:</th>      <td>nonrobust</td>    <th>                     </th>     <td> </td>   \n",
       "</tr>\n",
       "</table>\n",
       "<table class=\"simpletable\">\n",
       "<tr>\n",
       "        <td></td>          <th>coef</th>     <th>std err</th>      <th>t</th>      <th>P>|t|</th> <th>[95.0% Conf. Int.]</th> \n",
       "</tr>\n",
       "<tr>\n",
       "  <th>const</th>        <td>   -2.7741</td> <td>    3.331</td> <td>   -0.833</td> <td> 0.408</td> <td>   -9.417     3.869</td>\n",
       "</tr>\n",
       "<tr>\n",
       "  <th>log_GDP_year</th> <td>    0.6343</td> <td>    0.139</td> <td>    4.566</td> <td> 0.000</td> <td>    0.357     0.911</td>\n",
       "</tr>\n",
       "</table>\n",
       "<table class=\"simpletable\">\n",
       "<tr>\n",
       "  <th>Omnibus:</th>       <td> 0.310</td> <th>  Durbin-Watson:     </th> <td>   2.235</td>\n",
       "</tr>\n",
       "<tr>\n",
       "  <th>Prob(Omnibus):</th> <td> 0.857</td> <th>  Jarque-Bera (JB):  </th> <td>   0.248</td>\n",
       "</tr>\n",
       "<tr>\n",
       "  <th>Skew:</th>          <td> 0.138</td> <th>  Prob(JB):          </th> <td>   0.884</td>\n",
       "</tr>\n",
       "<tr>\n",
       "  <th>Kurtosis:</th>      <td> 2.919</td> <th>  Cond. No.          </th> <td>    245.</td>\n",
       "</tr>\n",
       "</table>"
      ],
      "text/plain": [
       "<class 'statsmodels.iolib.summary.Summary'>\n",
       "\"\"\"\n",
       "                            OLS Regression Results                            \n",
       "==============================================================================\n",
       "Dep. Variable:                  Total   R-squared:                       0.229\n",
       "Model:                            OLS   Adj. R-squared:                  0.218\n",
       "Method:                 Least Squares   F-statistic:                     20.85\n",
       "Date:                Wed, 25 Jan 2017   Prob (F-statistic):           2.07e-05\n",
       "Time:                        22:45:09   Log-Likelihood:                -174.48\n",
       "No. Observations:                  72   AIC:                             353.0\n",
       "Df Residuals:                      70   BIC:                             357.5\n",
       "Df Model:                           1                                         \n",
       "Covariance Type:            nonrobust                                         \n",
       "================================================================================\n",
       "                   coef    std err          t      P>|t|      [95.0% Conf. Int.]\n",
       "--------------------------------------------------------------------------------\n",
       "const           -2.7741      3.331     -0.833      0.408        -9.417     3.869\n",
       "log_GDP_year     0.6343      0.139      4.566      0.000         0.357     0.911\n",
       "==============================================================================\n",
       "Omnibus:                        0.310   Durbin-Watson:                   2.235\n",
       "Prob(Omnibus):                  0.857   Jarque-Bera (JB):                0.248\n",
       "Skew:                           0.138   Prob(JB):                        0.884\n",
       "Kurtosis:                       2.919   Cond. No.                         245.\n",
       "==============================================================================\n",
       "\n",
       "Warnings:\n",
       "[1] Standard Errors assume that the covariance matrix of the errors is correctly specified.\n",
       "\"\"\""
      ]
     },
     "execution_count": 114,
     "metadata": {},
     "output_type": "execute_result"
    }
   ],
   "source": [
    "X = sm.add_constant(clean_merged['log_GDP_year'])\n",
    "model = sm.OLS(clean_merged['Total'], X)\n",
    "f = model.fit()\n",
    "f.summary()"
   ]
  },
  {
   "cell_type": "code",
   "execution_count": 115,
   "metadata": {
    "collapsed": false
   },
   "outputs": [
    {
     "data": {
      "image/png": "[encoded data removed]",
      "text/plain": [
       "<matplotlib.figure.Figure at 0x11801afd0>"
      ]
     },
     "metadata": {},
     "output_type": "display_data"
    }
   ],
   "source": [
    "pd.scatter_matrix(clean_merged[['Total', 'log_GDP_year']], diagonal='hist')\n",
    "plt.show()"
   ]
  }
 ],
 "metadata": {
  "anaconda-cloud": {},
  "kernelspec": {
   "display_name": "Python [default]",
   "language": "python",
   "name": "python2"
  },
  "language_info": {
   "codemirror_mode": {
    "name": "ipython",
    "version": 2
   },
   "file_extension": ".py",
   "mimetype": "text/x-python",
   "name": "python",
   "nbconvert_exporter": "python",
   "pygments_lexer": "ipython2",
   "version": "2.7.12"
  }
 },
 "nbformat": 4,
 "nbformat_minor": 1
}
