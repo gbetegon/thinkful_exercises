{
 "cells": [
  {
   "cell_type": "code",
   "execution_count": 533,
   "metadata": {
    "collapsed": true
   },
   "outputs": [],
   "source": [
    "import pandas as pd\n",
    "import numpy as np\n",
    "import matplotlib.pyplot as plt\n",
    "from difflib import SequenceMatcher"
   ]
  },
  {
   "cell_type": "markdown",
   "metadata": {},
   "source": [
    "Data cleaning is definitely a \"practice makes perfect\" skill. Using this dataset of article open-access prices paid by the WELLCOME Trust between 2012 and 2013, determine the five most common journals and the total articles for each. Next, calculate the mean, median, and standard deviation of the open-access cost per article for each journal . You will need to do considerable data cleaning in order to extract accurate estimates, and may want to look into data encoding methods if you get stuck. For a real bonus round, identify the open access prices paid by subject area.\n",
    "\n",
    "As noted in the previous assignment, don't modify the data directly. Instead, write a cleaning script that will load the raw data and whip it into shape. Jupyter notebooks are a great format for this. Keep a record of your decisions: well-commented code is a must for recording your data cleaning decision-making progress. Submit a link to your script and results below and discuss it with your mentor at your next session."
   ]
  },
  {
   "cell_type": "code",
   "execution_count": 534,
   "metadata": {
    "collapsed": false
   },
   "outputs": [],
   "source": [
    "raw_df = pd.read_csv('/Users/Stephanie/downloads/wellcome/WELLCOME_APCspend2013_forThinkful.csv',\n",
    "                 encoding = \"ISO-8859-1\")"
   ]
  },
  {
   "cell_type": "markdown",
   "metadata": {},
   "source": [
    "First we create a new dataframe where we'll make the changes without editing on our original dataframe"
   ]
  },
  {
   "cell_type": "code",
   "execution_count": 535,
   "metadata": {
    "collapsed": true
   },
   "outputs": [],
   "source": [
    "df = raw_df"
   ]
  },
  {
   "cell_type": "markdown",
   "metadata": {},
   "source": [
    "Let's check how many publishers we have"
   ]
  },
  {
   "cell_type": "code",
   "execution_count": 536,
   "metadata": {
    "collapsed": false
   },
   "outputs": [],
   "source": [
    "def publisher_number():\n",
    "    print(\"There're {} different publishers in the dataframe\".\n",
    "          format(len(set(df.Publisher)))\n",
    "          )"
   ]
  },
  {
   "cell_type": "code",
   "execution_count": 537,
   "metadata": {
    "collapsed": false
   },
   "outputs": [
    {
     "name": "stdout",
     "output_type": "stream",
     "text": [
      "There're 299 different publishers in the dataframe\n"
     ]
    },
    {
     "data": {
      "text/html": [
       "<div>\n",
       "<style scoped>\n",
       "    .dataframe tbody tr th:only-of-type {\n",
       "        vertical-align: middle;\n",
       "    }\n",
       "\n",
       "    .dataframe tbody tr th {\n",
       "        vertical-align: top;\n",
       "    }\n",
       "\n",
       "    .dataframe thead th {\n",
       "        text-align: right;\n",
       "    }\n",
       "</style>\n",
       "<table border=\"1\" class=\"dataframe\">\n",
       "  <thead>\n",
       "    <tr style=\"text-align: right;\">\n",
       "      <th></th>\n",
       "      <th>count</th>\n",
       "    </tr>\n",
       "    <tr>\n",
       "      <th>Publisher</th>\n",
       "      <th></th>\n",
       "    </tr>\n",
       "  </thead>\n",
       "  <tbody>\n",
       "    <tr>\n",
       "      <th>Elsevier</th>\n",
       "      <td>387</td>\n",
       "    </tr>\n",
       "    <tr>\n",
       "      <th>Public Library of Science</th>\n",
       "      <td>278</td>\n",
       "    </tr>\n",
       "    <tr>\n",
       "      <th>Wiley</th>\n",
       "      <td>136</td>\n",
       "    </tr>\n",
       "    <tr>\n",
       "      <th>Springer</th>\n",
       "      <td>81</td>\n",
       "    </tr>\n",
       "    <tr>\n",
       "      <th>Oxford University Press</th>\n",
       "      <td>77</td>\n",
       "    </tr>\n",
       "    <tr>\n",
       "      <th>Wiley-Blackwell</th>\n",
       "      <td>56</td>\n",
       "    </tr>\n",
       "    <tr>\n",
       "      <th>OUP</th>\n",
       "      <td>56</td>\n",
       "    </tr>\n",
       "    <tr>\n",
       "      <th>ASBMB</th>\n",
       "      <td>46</td>\n",
       "    </tr>\n",
       "    <tr>\n",
       "      <th>Nature Publishing Group</th>\n",
       "      <td>45</td>\n",
       "    </tr>\n",
       "    <tr>\n",
       "      <th>BioMed Central</th>\n",
       "      <td>40</td>\n",
       "    </tr>\n",
       "    <tr>\n",
       "      <th>BMC</th>\n",
       "      <td>26</td>\n",
       "    </tr>\n",
       "    <tr>\n",
       "      <th>Nature</th>\n",
       "      <td>24</td>\n",
       "    </tr>\n",
       "    <tr>\n",
       "      <th>BMJ</th>\n",
       "      <td>23</td>\n",
       "    </tr>\n",
       "    <tr>\n",
       "      <th>Frontiers</th>\n",
       "      <td>23</td>\n",
       "    </tr>\n",
       "    <tr>\n",
       "      <th>Royal Society</th>\n",
       "      <td>22</td>\n",
       "    </tr>\n",
       "    <tr>\n",
       "      <th>Cambridge University Press</th>\n",
       "      <td>20</td>\n",
       "    </tr>\n",
       "    <tr>\n",
       "      <th>Company of Biologists</th>\n",
       "      <td>18</td>\n",
       "    </tr>\n",
       "    <tr>\n",
       "      <th>American Society for Biochemistry and Molecular Biology</th>\n",
       "      <td>18</td>\n",
       "    </tr>\n",
       "    <tr>\n",
       "      <th>Dartmouth Journal Services</th>\n",
       "      <td>17</td>\n",
       "    </tr>\n",
       "    <tr>\n",
       "      <th>Oxford Journals</th>\n",
       "      <td>16</td>\n",
       "    </tr>\n",
       "    <tr>\n",
       "      <th>American Society for Microbiology</th>\n",
       "      <td>16</td>\n",
       "    </tr>\n",
       "    <tr>\n",
       "      <th>National Academy of Sciences</th>\n",
       "      <td>15</td>\n",
       "    </tr>\n",
       "    <tr>\n",
       "      <th>PLoS</th>\n",
       "      <td>15</td>\n",
       "    </tr>\n",
       "    <tr>\n",
       "      <th>Landes Bioscience</th>\n",
       "      <td>14</td>\n",
       "    </tr>\n",
       "    <tr>\n",
       "      <th>Society for General Microbiology</th>\n",
       "      <td>14</td>\n",
       "    </tr>\n",
       "  </tbody>\n",
       "</table>\n",
       "</div>"
      ],
      "text/plain": [
       "                                                    count\n",
       "Publisher                                                \n",
       "Elsevier                                              387\n",
       "Public Library of Science                             278\n",
       "Wiley                                                 136\n",
       "Springer                                               81\n",
       "Oxford University Press                                77\n",
       "Wiley-Blackwell                                        56\n",
       "OUP                                                    56\n",
       "ASBMB                                                  46\n",
       "Nature Publishing Group                                45\n",
       "BioMed Central                                         40\n",
       "BMC                                                    26\n",
       "Nature                                                 24\n",
       "BMJ                                                    23\n",
       "Frontiers                                              23\n",
       "Royal Society                                          22\n",
       "Cambridge University Press                             20\n",
       "Company of Biologists                                  18\n",
       "American Society for Biochemistry and Molecular...     18\n",
       "Dartmouth Journal Services                             17\n",
       "Oxford Journals                                        16\n",
       "American Society for Microbiology                      16\n",
       "National Academy of Sciences                           15\n",
       "PLoS                                                   15\n",
       "Landes Bioscience                                      14\n",
       "Society for General Microbiology                       14"
      ]
     },
     "execution_count": 537,
     "metadata": {},
     "output_type": "execute_result"
    }
   ],
   "source": [
    "publisher_number()\n",
    "pub_count = df[['Publisher','Article title']].groupby(['Publisher'])['Article title'] \\\n",
    "                             .count() \\\n",
    "                             .reset_index(name='count') \\\n",
    "                             .sort_values(['count'], ascending=False)\n",
    "pub_count.set_index('Publisher').head(25)"
   ]
  },
  {
   "cell_type": "markdown",
   "metadata": {},
   "source": [
    "Let's see how it looks"
   ]
  },
  {
   "cell_type": "code",
   "execution_count": 538,
   "metadata": {
    "collapsed": false
   },
   "outputs": [
    {
     "data": {
      "text/plain": [
       "['ACS',\n",
       " 'ACS (Amercian Chemical Society) Publications',\n",
       " 'ACS Publications',\n",
       " 'AGA Institute',\n",
       " 'AMBSB',\n",
       " 'AMERICAN CHEMICAL SOCIETY',\n",
       " 'ASBMB',\n",
       " 'ASBMB Cadmus',\n",
       " 'ASBMB/Cadmus',\n",
       " 'ASBMB/Cenveo Publisher Services',\n",
       " 'ASBMC /CENVEO',\n",
       " 'ASM',\n",
       " 'ASM (American Society for Microbiology)',\n",
       " 'American Association of Immunologists',\n",
       " 'American Chemical Society',\n",
       " 'American Chemical Society Publications',\n",
       " 'American College of Chest Physicians',\n",
       " 'American Physiological Society',\n",
       " 'American Psychiatric Association',\n",
       " 'American Psychiatric Publishing',\n",
       " 'American Psychological Association',\n",
       " 'American Psychological Association ',\n",
       " 'American Public Health Association',\n",
       " 'American Soc for Biochemistry and Molecular Biology',\n",
       " 'American Society for Biochemistry and Molecular Biolgy',\n",
       " 'American Society for Biochemistry and Molecular Biology',\n",
       " 'American Society for Biochemistry and Molecular Biology ',\n",
       " 'American Society for Investigative Pathology',\n",
       " 'American Society for Microbiology',\n",
       " 'American Society for Microbiology ',\n",
       " 'American Society for Microbiology \\n',\n",
       " 'American Society for Nutrition',\n",
       " 'American Society of Haematology',\n",
       " 'American Society of Hamatology',\n",
       " 'American Society of Hematology',\n",
       " 'American Society of Human Genetics (Elsevier)',\n",
       " 'American Society of Microbiology',\n",
       " 'American Speech-Language-Hearing Association',\n",
       " 'Association for Research in Vision & Ophthalmology',\n",
       " 'BMC',\n",
       " 'BMJ',\n",
       " 'BMJ ',\n",
       " 'BMJ Group',\n",
       " 'BMJ Group ',\n",
       " 'BMJ Journals',\n",
       " 'BMJ PUBLISHING GROUP',\n",
       " 'BMJ Publishing Group',\n",
       " 'BMJ Publishing Group Ltd',\n",
       " 'BMJ Publishing Group Ltd & British Thoracic Society',\n",
       " 'BMJ group']"
      ]
     },
     "execution_count": 538,
     "metadata": {},
     "output_type": "execute_result"
    }
   ],
   "source": [
    "publishers = list(set(df.Publisher))\n",
    "sorted(publishers)[:50]"
   ]
  },
  {
   "cell_type": "markdown",
   "metadata": {},
   "source": [
    "Initially we're going to use lowercase characters for all publishers, remove any white spaces at the start or end of the string and remove any 'the' at the beginning of a name. That will hopefully unify some of the names"
   ]
  },
  {
   "cell_type": "code",
   "execution_count": 539,
   "metadata": {
    "collapsed": false
   },
   "outputs": [
    {
     "name": "stdout",
     "output_type": "stream",
     "text": [
      "There're 245 different publishers in the dataframe\n"
     ]
    }
   ],
   "source": [
    "df.Publisher = df.Publisher.str.strip()\n",
    "df.Publisher = df.Publisher.str.lower()\n",
    "df.Publisher = df.Publisher.apply(lambda x: x[4:] if x[:3]=='the' else x)\n",
    "publisher_number()"
   ]
  },
  {
   "cell_type": "markdown",
   "metadata": {},
   "source": [
    "The list contains also several variations of the same publisher, plus misspellings, use of acronyms etc.\n",
    "\n",
    "First, we're going to tackle misspellings and little variations, creating a function that assesses how similar to strings are. We're only going to look at words that are long enough to avoid changing acronyms that might look almost the same but refer to actually different things.\n",
    "\n",
    "We will replace any string that has a ratio of 0.8 similarity or higher"
   ]
  },
  {
   "cell_type": "code",
   "execution_count": 540,
   "metadata": {
    "collapsed": false,
    "scrolled": true
   },
   "outputs": [],
   "source": [
    "def similar(a, b, ratio):\n",
    "    return SequenceMatcher(None, a, b).ratio() > ratio"
   ]
  },
  {
   "cell_type": "code",
   "execution_count": 541,
   "metadata": {
    "collapsed": false
   },
   "outputs": [
    {
     "name": "stdout",
     "output_type": "stream",
     "text": [
      "There're 161 different publishers in the dataframe\n"
     ]
    }
   ],
   "source": [
    "publishers = list(set(df.Publisher))\n",
    "publishers_checklist = []\n",
    "\n",
    "for pub in publishers:\n",
    "    if len(pub) > 9:\n",
    "        if pub not in publishers_checklist:\n",
    "            df.Publisher = df.Publisher.apply(lambda x: pub if similar(pub, x, 0.8) == True else x)\n",
    "            publishers_checklist.append(pub)\n",
    "publisher_number()"
   ]
  },
  {
   "cell_type": "markdown",
   "metadata": {},
   "source": [
    "That got rid of some of the variations, but if we print the list, there's still many repeated names"
   ]
  },
  {
   "cell_type": "code",
   "execution_count": 542,
   "metadata": {
    "collapsed": false
   },
   "outputs": [
    {
     "data": {
      "text/plain": [
       "['acs',\n",
       " 'acs (amercian chemical society) publications',\n",
       " 'aga institute',\n",
       " 'ambsb',\n",
       " 'american association of immunologists',\n",
       " 'american chemical society',\n",
       " 'american chemical society petroleum research trust',\n",
       " 'american college of chest physicians',\n",
       " 'american physiological society',\n",
       " 'american psychiatric association',\n",
       " 'american psychiatric publishing',\n",
       " 'american public health association',\n",
       " 'american soc for biochemistry and molecular biology',\n",
       " 'american society for investigative pathology',\n",
       " 'american society for nutrition',\n",
       " 'american society of hamatology',\n",
       " 'american society of human genetics (elsevier)',\n",
       " 'american society of pediatrics',\n",
       " 'american speech-language-hearing association',\n",
       " 'asbmb',\n",
       " 'asbmb/cadmus',\n",
       " 'asbmc /cenveo',\n",
       " 'asm',\n",
       " 'association for research in vision & ophthalmology',\n",
       " 'bentham science publishers',\n",
       " 'berhahn books',\n",
       " 'biochem journal',\n",
       " 'biomed central limited',\n",
       " 'bioscientifica',\n",
       " 'blackwell publishing ltd/wiley',\n",
       " 'bmc',\n",
       " 'bmj',\n",
       " 'bmj group',\n",
       " 'bmj journals',\n",
       " 'bmj publishing group ltd & british thoracic society',\n",
       " 'boulevard',\n",
       " 'brill',\n",
       " 'british medical journal',\n",
       " 'byophysical society',\n",
       " 'cadmus',\n",
       " 'cadmus journal service',\n",
       " 'cambridge journals',\n",
       " 'cambridge university press',\n",
       " 'cell press',\n",
       " 'cenveo publisher services/asm jv1',\n",
       " 'coaction',\n",
       " 'cold spring harbor laboratory press',\n",
       " 'cold spring harbor publications',\n",
       " 'company of biologists',\n",
       " 'copyright clearace center',\n",
       " 'cshlp',\n",
       " 'cup',\n",
       " 'elseveier science',\n",
       " 'elsevier',\n",
       " 'elsevier (cell press)',\n",
       " 'elsevier / cell science',\n",
       " 'elsevier b.v.',\n",
       " 'elsevier ltd',\n",
       " 'endocrine socety',\n",
       " 'european respiratory society',\n",
       " 'european society of endocrinolog',\n",
       " 'faseb',\n",
       " 'federation of american societies for experimental biology (faseb)',\n",
       " 'ferrata storti foundation',\n",
       " 'frontiers',\n",
       " 'frontiers media sa',\n",
       " 'frontiers research foundation',\n",
       " 'future medicine',\n",
       " 'future science',\n",
       " 'hindawi',\n",
       " 'hindawi publishing corporation',\n",
       " 'humana press (springer imprint)',\n",
       " 'impact journals llc',\n",
       " 'informa healthcare',\n",
       " 'informa healthcare communications',\n",
       " 'institute of physics',\n",
       " 'international aids society',\n",
       " 'international union against tuberculosis and lung disease',\n",
       " 'international union of crystallography',\n",
       " 'iop publishing',\n",
       " 'ios press',\n",
       " 'ivyspring international publisher',\n",
       " 'j med internet research',\n",
       " 'john wiley',\n",
       " 'john wiley & sons ltd',\n",
       " 'john wiley and sons',\n",
       " 'johns hopkins university press',\n",
       " 'journal of the american physiological proceedings of national academy of sciences',\n",
       " 'journal of visualized experiments',\n",
       " 'jove',\n",
       " 'jscimed central',\n",
       " 'karger',\n",
       " 'landes biosciences',\n",
       " 'lww',\n",
       " 'macmillan',\n",
       " 'mary ann liebert inc',\n",
       " 'mary ann liebert, inc. publishers',\n",
       " 'mdpi',\n",
       " 'mit press',\n",
       " 'mit press open access',\n",
       " 'my jove corp',\n",
       " 'myjove corporation',\n",
       " 'national academy of sciences of the united states of america',\n",
       " 'national academy of sciences usa',\n",
       " 'nature',\n",
       " 'nature pg',\n",
       " 'nature publishing group ltd',\n",
       " 'npg',\n",
       " 'open access reg ltd',\n",
       " 'optical society of america',\n",
       " 'oup',\n",
       " 'oxford journals (oup)',\n",
       " 'oxford university press (oup)',\n",
       " 'palgrave macmillan',\n",
       " 'pion',\n",
       " 'plos',\n",
       " 'plos public library of science',\n",
       " 'pnas',\n",
       " 'pnas author publication',\n",
       " 'policy press',\n",
       " 'portland press ltd',\n",
       " 'proceedings of the national academy of sciences (pnas)',\n",
       " 'public.service.co.uk',\n",
       " 'pubmed',\n",
       " 'research media ltd',\n",
       " 'royal college of psychiatrists',\n",
       " 'royal society',\n",
       " 'royal society of chemistry',\n",
       " 'rsc',\n",
       " 'rsc publishing',\n",
       " 'sage',\n",
       " 'sage publications',\n",
       " 'sage publishers',\n",
       " 'sciedu press',\n",
       " 'scientific research publishing',\n",
       " 'sheridan press',\n",
       " 'society for endocrinology',\n",
       " 'society for genermal microbiology',\n",
       " 'society for leukocyte biology',\n",
       " 'society for neurosciences',\n",
       " 'society for publication of acta dermato-venereologica',\n",
       " 'springer',\n",
       " 'springer science + business media',\n",
       " 'springer-verlag gmbh',\n",
       " 'springer-verlag gmbh, heidelberger platz 3, d-14197 berlin',\n",
       " 't&f',\n",
       " 'taylor & francis',\n",
       " 'taylor & francis journals',\n",
       " 'transcript verlag',\n",
       " 'university of the basque country press',\n",
       " 'wiley',\n",
       " 'wiley & son',\n",
       " 'wiley online library',\n",
       " 'wiley subscription serviices inc',\n",
       " 'wiley vch',\n",
       " 'wiley-blackwell, john wiley & sons',\n",
       " 'wiley-vch',\n",
       " 'wliey-blackwell',\n",
       " 'wolters kluwer',\n",
       " 'wolters kluwer health',\n",
       " 'wolters kluwer n.v./lippinott']"
      ]
     },
     "execution_count": 542,
     "metadata": {},
     "output_type": "execute_result"
    }
   ],
   "source": [
    "publishers = list(set(df.Publisher))\n",
    "sorted(publishers)"
   ]
  },
  {
   "cell_type": "markdown",
   "metadata": {},
   "source": [
    "The next thing will do is to merge all names that share the first two words, unless they start with 'american' as we have a lot of 'american society of...' that don't necessarily refer to the same Publisher"
   ]
  },
  {
   "cell_type": "code",
   "execution_count": 543,
   "metadata": {
    "collapsed": false
   },
   "outputs": [],
   "source": [
    "publishers = list(set(df.Publisher))\n",
    "publishers_checklist = []\n",
    "\n",
    "for pub in publishers:\n",
    "    if len(pub.split()) > 1:\n",
    "        if 'american' not in pub:\n",
    "            splitted = pub.split()\n",
    "            words = splitted[0] + ' ' + splitted[1]\n",
    "            if pub not in publishers_checklist:\n",
    "                df.Publisher = df.Publisher.apply(\n",
    "                                lambda x: x.lower() if len(x.split()) > 1 else x)\n",
    "                df.Publisher = df.Publisher.apply(\n",
    "                                lambda x: pub if words in x else x)\n",
    "                publishers_checklist.append(pub)\n",
    "            \n",
    "        "
   ]
  },
  {
   "cell_type": "code",
   "execution_count": 544,
   "metadata": {
    "collapsed": false
   },
   "outputs": [
    {
     "name": "stdout",
     "output_type": "stream",
     "text": [
      "There're 137 different publishers in the dataframe\n"
     ]
    }
   ],
   "source": [
    "publisher_number()"
   ]
  },
  {
   "cell_type": "code",
   "execution_count": 545,
   "metadata": {
    "collapsed": false
   },
   "outputs": [
    {
     "data": {
      "text/plain": [
       "['acs',\n",
       " 'acs (amercian chemical society) publications',\n",
       " 'aga institute',\n",
       " 'ambsb',\n",
       " 'american association of immunologists',\n",
       " 'american chemical society',\n",
       " 'american chemical society petroleum research trust',\n",
       " 'american college of chest physicians',\n",
       " 'american physiological society',\n",
       " 'american psychiatric association',\n",
       " 'american psychiatric publishing',\n",
       " 'american public health association',\n",
       " 'american soc for biochemistry and molecular biology',\n",
       " 'american society of hamatology',\n",
       " 'american society of human genetics (elsevier)',\n",
       " 'american society of pediatrics',\n",
       " 'american speech-language-hearing association',\n",
       " 'asbmb',\n",
       " 'asbmb/cadmus',\n",
       " 'asbmc /cenveo',\n",
       " 'asm',\n",
       " 'association for research in vision & ophthalmology',\n",
       " 'bentham science publishers',\n",
       " 'berhahn books',\n",
       " 'biochem journal',\n",
       " 'biomed central limited',\n",
       " 'bioscientifica',\n",
       " 'blackwell publishing ltd/wiley',\n",
       " 'bmc',\n",
       " 'bmj',\n",
       " 'bmj group',\n",
       " 'bmj journals',\n",
       " 'bmj publishing group ltd & british thoracic society',\n",
       " 'boulevard',\n",
       " 'brill',\n",
       " 'british medical journal',\n",
       " 'byophysical society',\n",
       " 'cadmus',\n",
       " 'cadmus journal service',\n",
       " 'cambridge journals',\n",
       " 'cambridge university press',\n",
       " 'cell press',\n",
       " 'cenveo publisher services/asm jv1',\n",
       " 'coaction',\n",
       " 'cold spring harbor laboratory press',\n",
       " 'company of biologists',\n",
       " 'copyright clearace center',\n",
       " 'cshlp',\n",
       " 'cup',\n",
       " 'elseveier science',\n",
       " 'elsevier',\n",
       " 'elsevier / cell science',\n",
       " 'elsevier b.v.',\n",
       " 'elsevier ltd',\n",
       " 'endocrine socety',\n",
       " 'european respiratory society',\n",
       " 'european society of endocrinolog',\n",
       " 'faseb',\n",
       " 'federation of american societies for experimental biology (faseb)',\n",
       " 'ferrata storti foundation',\n",
       " 'frontiers',\n",
       " 'frontiers media sa',\n",
       " 'frontiers research foundation',\n",
       " 'future medicine',\n",
       " 'future science',\n",
       " 'hindawi',\n",
       " 'hindawi publishing corporation',\n",
       " 'humana press (springer imprint)',\n",
       " 'impact journals llc',\n",
       " 'informa healthcare communications',\n",
       " 'institute of physics',\n",
       " 'international aids society',\n",
       " 'international union of crystallography',\n",
       " 'iop publishing',\n",
       " 'ios press',\n",
       " 'ivyspring international publisher',\n",
       " 'j med internet research',\n",
       " 'john wiley',\n",
       " 'johns hopkins university press',\n",
       " 'journal of visualized experiments',\n",
       " 'jove',\n",
       " 'jscimed central',\n",
       " 'karger',\n",
       " 'landes biosciences',\n",
       " 'lww',\n",
       " 'macmillan',\n",
       " 'mary ann liebert, inc. publishers',\n",
       " 'mdpi',\n",
       " 'my jove corp',\n",
       " 'myjove corporation',\n",
       " 'national academy of sciences usa',\n",
       " 'nature',\n",
       " 'nature pg',\n",
       " 'nature publishing group ltd',\n",
       " 'npg',\n",
       " 'open access reg ltd',\n",
       " 'optical society of america',\n",
       " 'oup',\n",
       " 'oxford journals (oup)',\n",
       " 'oxford university press (oup)',\n",
       " 'palgrave macmillan',\n",
       " 'pion',\n",
       " 'plos',\n",
       " 'plos public library of science',\n",
       " 'pnas',\n",
       " 'pnas author publication',\n",
       " 'policy press',\n",
       " 'portland press ltd',\n",
       " 'public.service.co.uk',\n",
       " 'pubmed',\n",
       " 'research media ltd',\n",
       " 'royal college of psychiatrists',\n",
       " 'royal society of chemistry',\n",
       " 'rsc',\n",
       " 'rsc publishing',\n",
       " 'sage',\n",
       " 'sage publications',\n",
       " 'sage publishers',\n",
       " 'sciedu press',\n",
       " 'scientific research publishing',\n",
       " 'sheridan press',\n",
       " 'society for neurosciences',\n",
       " 'springer',\n",
       " 'springer science + business media',\n",
       " 'springer-verlag gmbh',\n",
       " 't&f',\n",
       " 'taylor & francis',\n",
       " 'transcript verlag',\n",
       " 'university of the basque country press',\n",
       " 'wiley',\n",
       " 'wiley & son',\n",
       " 'wiley online library',\n",
       " 'wiley subscription serviices inc',\n",
       " 'wiley vch',\n",
       " 'wiley-vch',\n",
       " 'wliey-blackwell',\n",
       " 'wolters kluwer n.v./lippinott']"
      ]
     },
     "execution_count": 545,
     "metadata": {},
     "output_type": "execute_result"
    }
   ],
   "source": [
    "sorted(set(df.Publisher))"
   ]
  },
  {
   "cell_type": "code",
   "execution_count": 546,
   "metadata": {
    "collapsed": false
   },
   "outputs": [
    {
     "name": "stdout",
     "output_type": "stream",
     "text": [
      "There're 107 different publishers in the dataframe\n"
     ]
    }
   ],
   "source": [
    "keywords = ['wiley', 'cambridge', 'elsevier',\n",
    "            'springer', 'wolters', 'bmj',\n",
    "            'frontiers', 'hindawi', 'oxford',\n",
    "            'sage', 'nature', 'cadmus',\n",
    "            'nature', 'plos', 'pnas']\n",
    "\n",
    "for keyword in keywords:\n",
    "    df.Publisher = df.Publisher.apply(\n",
    "                                lambda x: keyword if keyword in x else x)\n",
    "\n",
    "publisher_number()"
   ]
  },
  {
   "cell_type": "code",
   "execution_count": 547,
   "metadata": {
    "collapsed": false
   },
   "outputs": [
    {
     "data": {
      "text/plain": [
       "['acs',\n",
       " 'acs (amercian chemical society) publications',\n",
       " 'aga institute',\n",
       " 'ambsb',\n",
       " 'american association of immunologists',\n",
       " 'american chemical society',\n",
       " 'american chemical society petroleum research trust',\n",
       " 'american college of chest physicians',\n",
       " 'american physiological society',\n",
       " 'american psychiatric association',\n",
       " 'american psychiatric publishing',\n",
       " 'american public health association',\n",
       " 'american soc for biochemistry and molecular biology',\n",
       " 'american society of hamatology',\n",
       " 'american society of pediatrics',\n",
       " 'american speech-language-hearing association',\n",
       " 'asbmb',\n",
       " 'asbmc /cenveo',\n",
       " 'asm',\n",
       " 'association for research in vision & ophthalmology',\n",
       " 'bentham science publishers',\n",
       " 'berhahn books',\n",
       " 'biochem journal',\n",
       " 'biomed central limited',\n",
       " 'bioscientifica',\n",
       " 'bmc',\n",
       " 'bmj',\n",
       " 'boulevard',\n",
       " 'brill',\n",
       " 'british medical journal',\n",
       " 'byophysical society',\n",
       " 'cadmus',\n",
       " 'cambridge',\n",
       " 'cell press',\n",
       " 'cenveo publisher services/asm jv1',\n",
       " 'coaction',\n",
       " 'cold spring harbor laboratory press',\n",
       " 'company of biologists',\n",
       " 'copyright clearace center',\n",
       " 'cshlp',\n",
       " 'cup',\n",
       " 'elseveier science',\n",
       " 'elsevier',\n",
       " 'endocrine socety',\n",
       " 'european respiratory society',\n",
       " 'european society of endocrinolog',\n",
       " 'faseb',\n",
       " 'federation of american societies for experimental biology (faseb)',\n",
       " 'ferrata storti foundation',\n",
       " 'frontiers',\n",
       " 'future medicine',\n",
       " 'future science',\n",
       " 'hindawi',\n",
       " 'impact journals llc',\n",
       " 'informa healthcare communications',\n",
       " 'institute of physics',\n",
       " 'international aids society',\n",
       " 'international union of crystallography',\n",
       " 'iop publishing',\n",
       " 'ios press',\n",
       " 'ivyspring international publisher',\n",
       " 'j med internet research',\n",
       " 'johns hopkins university press',\n",
       " 'journal of visualized experiments',\n",
       " 'jove',\n",
       " 'jscimed central',\n",
       " 'karger',\n",
       " 'landes biosciences',\n",
       " 'lww',\n",
       " 'macmillan',\n",
       " 'mary ann liebert, inc. publishers',\n",
       " 'mdpi',\n",
       " 'my jove corp',\n",
       " 'myjove corporation',\n",
       " 'national academy of sciences usa',\n",
       " 'nature',\n",
       " 'npg',\n",
       " 'open access reg ltd',\n",
       " 'optical society of america',\n",
       " 'oup',\n",
       " 'oxford',\n",
       " 'palgrave macmillan',\n",
       " 'pion',\n",
       " 'plos',\n",
       " 'pnas',\n",
       " 'policy press',\n",
       " 'portland press ltd',\n",
       " 'public.service.co.uk',\n",
       " 'pubmed',\n",
       " 'research media ltd',\n",
       " 'royal college of psychiatrists',\n",
       " 'royal society of chemistry',\n",
       " 'rsc',\n",
       " 'rsc publishing',\n",
       " 'sage',\n",
       " 'sciedu press',\n",
       " 'scientific research publishing',\n",
       " 'sheridan press',\n",
       " 'society for neurosciences',\n",
       " 'springer',\n",
       " 't&f',\n",
       " 'taylor & francis',\n",
       " 'transcript verlag',\n",
       " 'university of the basque country press',\n",
       " 'wiley',\n",
       " 'wliey-blackwell',\n",
       " 'wolters']"
      ]
     },
     "execution_count": 547,
     "metadata": {},
     "output_type": "execute_result"
    }
   ],
   "source": [
    "sorted(set(df.Publisher))"
   ]
  },
  {
   "cell_type": "code",
   "execution_count": 548,
   "metadata": {
    "collapsed": false
   },
   "outputs": [
    {
     "name": "stdout",
     "output_type": "stream",
     "text": [
      "society)\n",
      "(amercian\n",
      "wliey-blackwell\n",
      "/cenveo\n",
      "services/asm\n",
      "public.service.co.uk\n",
      "speech-language-hearing\n",
      "&\n",
      "t&f\n",
      "inc.\n",
      "(faseb)\n",
      "liebert,\n"
     ]
    }
   ],
   "source": [
    "pub_words = []\n",
    "\n",
    "publishers = list(set(df.Publisher))\n",
    "for pub in publishers:\n",
    "    words = pub.split()\n",
    "    \n",
    "    for word in words:\n",
    "        pub_words.append(word)\n",
    "\n",
    "pub_words = set(pub_words)\n",
    "for word in pub_words:\n",
    "    if word.isalnum() is False:\n",
    "        print(word)"
   ]
  },
  {
   "cell_type": "code",
   "execution_count": 549,
   "metadata": {
    "collapsed": false
   },
   "outputs": [],
   "source": [
    "replace = {'/': ' ',\n",
    "           '-': ' ',\n",
    "           '&': ' and '\n",
    "           , '(': '',\n",
    "           ')': ''}\n",
    "\n",
    "for k, v in replace.items():\n",
    "    df.Publisher = df.Publisher.str.replace(k,v)"
   ]
  },
  {
   "cell_type": "code",
   "execution_count": 550,
   "metadata": {
    "collapsed": false
   },
   "outputs": [
    {
     "data": {
      "text/plain": [
       "{'&',\n",
       " '(amercian',\n",
       " '(faseb)',\n",
       " '/cenveo',\n",
       " 'academy',\n",
       " 'access',\n",
       " 'acs',\n",
       " 'aga',\n",
       " 'aids',\n",
       " 'ambsb',\n",
       " 'america',\n",
       " 'american',\n",
       " 'and',\n",
       " 'ann',\n",
       " 'asbmb',\n",
       " 'asbmc',\n",
       " 'asm',\n",
       " 'association',\n",
       " 'basque',\n",
       " 'bentham',\n",
       " 'berhahn',\n",
       " 'biochem',\n",
       " 'biochemistry',\n",
       " 'biologists',\n",
       " 'biology',\n",
       " 'biomed',\n",
       " 'biosciences',\n",
       " 'bioscientifica',\n",
       " 'bmc',\n",
       " 'bmj',\n",
       " 'books',\n",
       " 'boulevard',\n",
       " 'brill',\n",
       " 'british',\n",
       " 'byophysical',\n",
       " 'cadmus',\n",
       " 'cambridge',\n",
       " 'cell',\n",
       " 'center',\n",
       " 'central',\n",
       " 'cenveo',\n",
       " 'chemical',\n",
       " 'chemistry',\n",
       " 'chest',\n",
       " 'clearace',\n",
       " 'coaction',\n",
       " 'cold',\n",
       " 'college',\n",
       " 'communications',\n",
       " 'company',\n",
       " 'copyright',\n",
       " 'corp',\n",
       " 'corporation',\n",
       " 'country',\n",
       " 'crystallography',\n",
       " 'cshlp',\n",
       " 'cup',\n",
       " 'elseveier',\n",
       " 'elsevier',\n",
       " 'endocrine',\n",
       " 'endocrinolog',\n",
       " 'european',\n",
       " 'experimental',\n",
       " 'experiments',\n",
       " 'faseb',\n",
       " 'federation',\n",
       " 'ferrata',\n",
       " 'for',\n",
       " 'foundation',\n",
       " 'francis',\n",
       " 'frontiers',\n",
       " 'future',\n",
       " 'hamatology',\n",
       " 'harbor',\n",
       " 'health',\n",
       " 'healthcare',\n",
       " 'hindawi',\n",
       " 'hopkins',\n",
       " 'immunologists',\n",
       " 'impact',\n",
       " 'in',\n",
       " 'inc.',\n",
       " 'informa',\n",
       " 'institute',\n",
       " 'international',\n",
       " 'internet',\n",
       " 'iop',\n",
       " 'ios',\n",
       " 'ivyspring',\n",
       " 'j',\n",
       " 'johns',\n",
       " 'journal',\n",
       " 'journals',\n",
       " 'jove',\n",
       " 'jscimed',\n",
       " 'jv1',\n",
       " 'karger',\n",
       " 'laboratory',\n",
       " 'landes',\n",
       " 'liebert,',\n",
       " 'limited',\n",
       " 'llc',\n",
       " 'ltd',\n",
       " 'lww',\n",
       " 'macmillan',\n",
       " 'mary',\n",
       " 'mdpi',\n",
       " 'med',\n",
       " 'media',\n",
       " 'medical',\n",
       " 'medicine',\n",
       " 'molecular',\n",
       " 'my',\n",
       " 'myjove',\n",
       " 'national',\n",
       " 'nature',\n",
       " 'neurosciences',\n",
       " 'npg',\n",
       " 'of',\n",
       " 'open',\n",
       " 'ophthalmology',\n",
       " 'optical',\n",
       " 'oup',\n",
       " 'oxford',\n",
       " 'palgrave',\n",
       " 'pediatrics',\n",
       " 'petroleum',\n",
       " 'physicians',\n",
       " 'physics',\n",
       " 'physiological',\n",
       " 'pion',\n",
       " 'plos',\n",
       " 'pnas',\n",
       " 'policy',\n",
       " 'portland',\n",
       " 'press',\n",
       " 'psychiatric',\n",
       " 'psychiatrists',\n",
       " 'public',\n",
       " 'public.service.co.uk',\n",
       " 'publications',\n",
       " 'publisher',\n",
       " 'publishers',\n",
       " 'publishing',\n",
       " 'pubmed',\n",
       " 'reg',\n",
       " 'research',\n",
       " 'respiratory',\n",
       " 'royal',\n",
       " 'rsc',\n",
       " 'sage',\n",
       " 'sciedu',\n",
       " 'science',\n",
       " 'sciences',\n",
       " 'scientific',\n",
       " 'services/asm',\n",
       " 'sheridan',\n",
       " 'soc',\n",
       " 'socety',\n",
       " 'societies',\n",
       " 'society',\n",
       " 'society)',\n",
       " 'speech-language-hearing',\n",
       " 'spring',\n",
       " 'springer',\n",
       " 'storti',\n",
       " 't&f',\n",
       " 'taylor',\n",
       " 'the',\n",
       " 'transcript',\n",
       " 'trust',\n",
       " 'union',\n",
       " 'university',\n",
       " 'usa',\n",
       " 'verlag',\n",
       " 'vision',\n",
       " 'visualized',\n",
       " 'wiley',\n",
       " 'wliey-blackwell',\n",
       " 'wolters'}"
      ]
     },
     "execution_count": 550,
     "metadata": {},
     "output_type": "execute_result"
    }
   ],
   "source": [
    "pub_words"
   ]
  },
  {
   "cell_type": "code",
   "execution_count": 551,
   "metadata": {
    "collapsed": false
   },
   "outputs": [],
   "source": [
    "pub_words = []\n",
    "\n",
    "publishers = list(set(df.Publisher))\n",
    "for pub in publishers:\n",
    "    words = pub.split()\n",
    "    \n",
    "    for word in words:\n",
    "        pub_words.append(word)\n",
    "\n",
    "pub_words = set(pub_words)"
   ]
  },
  {
   "cell_type": "code",
   "execution_count": 552,
   "metadata": {
    "collapsed": false
   },
   "outputs": [
    {
     "data": {
      "text/plain": [
       "{'amercian': 'american',\n",
       " 'america': 'amercian',\n",
       " 'american': 'amercian',\n",
       " 'asbmb': 'asbmc',\n",
       " 'asbmc': 'asbmb',\n",
       " 'center': 'central',\n",
       " 'central': 'center',\n",
       " 'elseveier': 'elsevier',\n",
       " 'elsevier': 'elseveier',\n",
       " 'experimental': 'experiments',\n",
       " 'experiments': 'experimental',\n",
       " 'journal': 'journals',\n",
       " 'journals': 'journal',\n",
       " 'jscimed': 'sciedu',\n",
       " 'publisher': 'publishers',\n",
       " 'publishers': 'publisher',\n",
       " 'sciedu': 'jscimed',\n",
       " 'science': 'sciences',\n",
       " 'sciences': 'science',\n",
       " 'socety': 'society',\n",
       " 'society': 'socety',\n",
       " 'wiley': 'wliey',\n",
       " 'wliey': 'wiley'}"
      ]
     },
     "execution_count": 552,
     "metadata": {},
     "output_type": "execute_result"
    }
   ],
   "source": [
    "word_pairs = {}\n",
    "\n",
    "for word in pub_words:\n",
    "    for word_2 in pub_words:\n",
    "        if (similar(word, word_2, 0.75) == True\n",
    "            and (len(word) == len(word_2) or len(word) == len(word_2) + 1 or len(word) == len(word_2) - 1)\n",
    "            and word != word_2\n",
    "            ):\n",
    "            word_pairs[word] = word_2\n",
    "\n",
    "word_pairs"
   ]
  },
  {
   "cell_type": "code",
   "execution_count": 553,
   "metadata": {
    "collapsed": false
   },
   "outputs": [],
   "source": [
    "mispelled = ['amercian', 'elseveier', 'socety', 'wliey']\n",
    "replace = {x:word_pairs[x] for x in mispelled}"
   ]
  },
  {
   "cell_type": "code",
   "execution_count": 554,
   "metadata": {
    "collapsed": false
   },
   "outputs": [
    {
     "name": "stdout",
     "output_type": "stream",
     "text": [
      "There're 104 different publishers in the dataframe\n"
     ]
    }
   ],
   "source": [
    "for key, value in replace.items():\n",
    "    df.Publisher = df.Publisher.apply(\n",
    "                            lambda x: value if key in x else x)\n",
    "\n",
    "df.Publisher = df.Publisher.apply(lambda x: 'wiley' if 'wl' in x else x)\n",
    "\n",
    "df.Publisher = df.Publisher.apply(lambda x: 'oxford' if x =='oup'else x)\n",
    "\n",
    "df.Publisher = df.Publisher.str.capitalize()\n",
    "\n",
    "\n",
    "publisher_number()"
   ]
  },
  {
   "cell_type": "code",
   "execution_count": 555,
   "metadata": {
    "collapsed": false
   },
   "outputs": [
    {
     "data": {
      "text/html": [
       "<div>\n",
       "<style scoped>\n",
       "    .dataframe tbody tr th:only-of-type {\n",
       "        vertical-align: middle;\n",
       "    }\n",
       "\n",
       "    .dataframe tbody tr th {\n",
       "        vertical-align: top;\n",
       "    }\n",
       "\n",
       "    .dataframe thead th {\n",
       "        text-align: right;\n",
       "    }\n",
       "</style>\n",
       "<table border=\"1\" class=\"dataframe\">\n",
       "  <thead>\n",
       "    <tr style=\"text-align: right;\">\n",
       "      <th></th>\n",
       "      <th>count</th>\n",
       "    </tr>\n",
       "    <tr>\n",
       "      <th>Publisher</th>\n",
       "      <th></th>\n",
       "    </tr>\n",
       "  </thead>\n",
       "  <tbody>\n",
       "    <tr>\n",
       "      <th>Elsevier</th>\n",
       "      <td>406</td>\n",
       "    </tr>\n",
       "    <tr>\n",
       "      <th>Plos</th>\n",
       "      <td>307</td>\n",
       "    </tr>\n",
       "    <tr>\n",
       "      <th>Wiley</th>\n",
       "      <td>270</td>\n",
       "    </tr>\n",
       "    <tr>\n",
       "      <th>Oxford</th>\n",
       "      <td>167</td>\n",
       "    </tr>\n",
       "    <tr>\n",
       "      <th>Springer</th>\n",
       "      <td>95</td>\n",
       "    </tr>\n",
       "  </tbody>\n",
       "</table>\n",
       "</div>"
      ],
      "text/plain": [
       "           count\n",
       "Publisher       \n",
       "Elsevier     406\n",
       "Plos         307\n",
       "Wiley        270\n",
       "Oxford       167\n",
       "Springer      95"
      ]
     },
     "execution_count": 555,
     "metadata": {},
     "output_type": "execute_result"
    }
   ],
   "source": [
    "pub_count_final = df[['Publisher','Article title']].groupby(['Publisher'])['Article title'] \\\n",
    "                             .count() \\\n",
    "                             .reset_index(name='count') \\\n",
    "                             .sort_values(['count'], ascending=False)\n",
    "pub_count_final.set_index('Publisher').head(5)"
   ]
  },
  {
   "cell_type": "markdown",
   "metadata": {},
   "source": [
    "Next, calculate the mean, median, and standard deviation of the open-access cost per article for each journal "
   ]
  },
  {
   "cell_type": "code",
   "execution_count": 557,
   "metadata": {
    "collapsed": false
   },
   "outputs": [],
   "source": [
    "df.rename(columns={'COST (£) charged to Wellcome (inc VAT when charged)': 'Cost'}, inplace=True)\n",
    "df.Cost = df.Cost.str.replace('£','')\n",
    "df.Cost = df.Cost.str.replace('$','')\n",
    "df.Cost = df.Cost.apply(lambda x: round(float(x),2))"
   ]
  },
  {
   "cell_type": "code",
   "execution_count": 558,
   "metadata": {
    "collapsed": false
   },
   "outputs": [
    {
     "name": "stdout",
     "output_type": "stream",
     "text": [
      "                                              Cost\n",
      "Publisher                                         \n",
      "Acs                                    1398.371429\n",
      "Aga institute                           238.080000\n",
      "Ambsb                                   265.670000\n",
      "American                               1204.051667\n",
      "American association of immunologists  2571.540000\n",
      "                                           Cost\n",
      "Publisher                                      \n",
      "Acs                                     685.880\n",
      "Aga institute                           238.080\n",
      "Ambsb                                   265.670\n",
      "American                               1294.685\n",
      "American association of immunologists  2571.540\n",
      "                                             Cost\n",
      "Publisher                                        \n",
      "Acs                                    918.733083\n",
      "Aga institute                                 NaN\n",
      "Ambsb                                         NaN\n",
      "American                               250.778454\n",
      "American association of immunologists  758.782145\n"
     ]
    }
   ],
   "source": [
    "print(df.groupby('Publisher').mean().head(5))\n",
    "print(df.groupby('Publisher').median().head(5))\n",
    "print(df.groupby('Publisher').std().head(5))"
   ]
  }
 ],
 "metadata": {
  "anaconda-cloud": {},
  "kernelspec": {
   "display_name": "Python 3",
   "language": "python",
   "name": "python3"
  }
 },
 "nbformat": 4,
 "nbformat_minor": 1
}
