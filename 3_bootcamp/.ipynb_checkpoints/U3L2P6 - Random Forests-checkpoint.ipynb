{
 "cells": [
  {
   "cell_type": "code",
   "execution_count": 190,
   "metadata": {
    "collapsed": true
   },
   "outputs": [],
   "source": [
    "import pandas as pd\n",
    "import numpy as np\n",
    "import matplotlib.pyplot as plt\n",
    "import seaborn as sns\n",
    "from sklearn import tree\n",
    "from sklearn import ensemble\n",
    "from sklearn.model_selection import cross_val_score\n",
    "import time"
   ]
  },
  {
   "cell_type": "markdown",
   "metadata": {},
   "source": [
    "Now that you've learned about random forests and decision trees let's do an exercise in accuracy. You know that random forests are basically a collection of decision trees. But how do the accuracies of the two models compare?\n",
    "\n",
    "So here's what you should do. Pick a dataset. It could be one you've worked with before or it could be a new one. Then build the best decision tree you can.\n",
    "\n",
    "Now try to match that with the simplest random forest you can. For our purposes measure simplicity with runtime. Compare that to the runtime of the decision tree. This is imperfect but just go with it.\n",
    "\n",
    "Hopefully out of this you'll see the power of random forests, but also their potential costs. Remember, in the real world you won't necessarily be dealing with thousands of rows. It could be millions, billions, or even more.\n",
    "\n",
    "Submit a link to your models below."
   ]
  },
  {
   "cell_type": "markdown",
   "metadata": {},
   "source": [
    "## Load dataset"
   ]
  },
  {
   "cell_type": "code",
   "execution_count": 191,
   "metadata": {
    "collapsed": true
   },
   "outputs": [],
   "source": [
    "df = pd.read_csv('/Users/Stephanie/Downloads/crime-in-baltimore.zip')"
   ]
  },
  {
   "cell_type": "code",
   "execution_count": 192,
   "metadata": {
    "collapsed": false
   },
   "outputs": [
    {
     "data": {
      "text/html": [
       "<div>\n",
       "<style scoped>\n",
       "    .dataframe tbody tr th:only-of-type {\n",
       "        vertical-align: middle;\n",
       "    }\n",
       "\n",
       "    .dataframe tbody tr th {\n",
       "        vertical-align: top;\n",
       "    }\n",
       "\n",
       "    .dataframe thead th {\n",
       "        text-align: right;\n",
       "    }\n",
       "</style>\n",
       "<table border=\"1\" class=\"dataframe\">\n",
       "  <thead>\n",
       "    <tr style=\"text-align: right;\">\n",
       "      <th></th>\n",
       "      <th>CrimeDate</th>\n",
       "      <th>CrimeTime</th>\n",
       "      <th>CrimeCode</th>\n",
       "      <th>Location</th>\n",
       "      <th>Description</th>\n",
       "      <th>Inside/Outside</th>\n",
       "      <th>Weapon</th>\n",
       "      <th>Post</th>\n",
       "      <th>District</th>\n",
       "      <th>Neighborhood</th>\n",
       "      <th>Longitude</th>\n",
       "      <th>Latitude</th>\n",
       "      <th>Location 1</th>\n",
       "      <th>Premise</th>\n",
       "      <th>Total Incidents</th>\n",
       "    </tr>\n",
       "  </thead>\n",
       "  <tbody>\n",
       "    <tr>\n",
       "      <th>0</th>\n",
       "      <td>09/02/2017</td>\n",
       "      <td>23:30:00</td>\n",
       "      <td>3JK</td>\n",
       "      <td>4200 AUDREY AVE</td>\n",
       "      <td>ROBBERY - RESIDENCE</td>\n",
       "      <td>I</td>\n",
       "      <td>KNIFE</td>\n",
       "      <td>913.0</td>\n",
       "      <td>SOUTHERN</td>\n",
       "      <td>Brooklyn</td>\n",
       "      <td>-76.60541</td>\n",
       "      <td>39.22951</td>\n",
       "      <td>(39.2295100000, -76.6054100000)</td>\n",
       "      <td>ROW/TOWNHO</td>\n",
       "      <td>1</td>\n",
       "    </tr>\n",
       "    <tr>\n",
       "      <th>1</th>\n",
       "      <td>09/02/2017</td>\n",
       "      <td>23:00:00</td>\n",
       "      <td>7A</td>\n",
       "      <td>800 NEWINGTON AVE</td>\n",
       "      <td>AUTO THEFT</td>\n",
       "      <td>O</td>\n",
       "      <td>NaN</td>\n",
       "      <td>133.0</td>\n",
       "      <td>CENTRAL</td>\n",
       "      <td>Reservoir Hill</td>\n",
       "      <td>-76.63217</td>\n",
       "      <td>39.31360</td>\n",
       "      <td>(39.3136000000, -76.6321700000)</td>\n",
       "      <td>STREET</td>\n",
       "      <td>1</td>\n",
       "    </tr>\n",
       "    <tr>\n",
       "      <th>2</th>\n",
       "      <td>09/02/2017</td>\n",
       "      <td>22:53:00</td>\n",
       "      <td>9S</td>\n",
       "      <td>600 RADNOR AV</td>\n",
       "      <td>SHOOTING</td>\n",
       "      <td>Outside</td>\n",
       "      <td>FIREARM</td>\n",
       "      <td>524.0</td>\n",
       "      <td>NORTHERN</td>\n",
       "      <td>Winston-Govans</td>\n",
       "      <td>-76.60697</td>\n",
       "      <td>39.34768</td>\n",
       "      <td>(39.3476800000, -76.6069700000)</td>\n",
       "      <td>Street</td>\n",
       "      <td>1</td>\n",
       "    </tr>\n",
       "    <tr>\n",
       "      <th>3</th>\n",
       "      <td>09/02/2017</td>\n",
       "      <td>22:50:00</td>\n",
       "      <td>4C</td>\n",
       "      <td>1800 RAMSAY ST</td>\n",
       "      <td>AGG. ASSAULT</td>\n",
       "      <td>I</td>\n",
       "      <td>OTHER</td>\n",
       "      <td>934.0</td>\n",
       "      <td>SOUTHERN</td>\n",
       "      <td>Carrollton Ridge</td>\n",
       "      <td>-76.64526</td>\n",
       "      <td>39.28315</td>\n",
       "      <td>(39.2831500000, -76.6452600000)</td>\n",
       "      <td>ROW/TOWNHO</td>\n",
       "      <td>1</td>\n",
       "    </tr>\n",
       "    <tr>\n",
       "      <th>4</th>\n",
       "      <td>09/02/2017</td>\n",
       "      <td>22:31:00</td>\n",
       "      <td>4E</td>\n",
       "      <td>100 LIGHT ST</td>\n",
       "      <td>COMMON ASSAULT</td>\n",
       "      <td>O</td>\n",
       "      <td>HANDS</td>\n",
       "      <td>113.0</td>\n",
       "      <td>CENTRAL</td>\n",
       "      <td>Downtown West</td>\n",
       "      <td>-76.61365</td>\n",
       "      <td>39.28756</td>\n",
       "      <td>(39.2875600000, -76.6136500000)</td>\n",
       "      <td>STREET</td>\n",
       "      <td>1</td>\n",
       "    </tr>\n",
       "  </tbody>\n",
       "</table>\n",
       "</div>"
      ],
      "text/plain": [
       "    CrimeDate CrimeTime CrimeCode           Location          Description  \\\n",
       "0  09/02/2017  23:30:00       3JK    4200 AUDREY AVE  ROBBERY - RESIDENCE   \n",
       "1  09/02/2017  23:00:00        7A  800 NEWINGTON AVE           AUTO THEFT   \n",
       "2  09/02/2017  22:53:00        9S      600 RADNOR AV             SHOOTING   \n",
       "3  09/02/2017  22:50:00        4C     1800 RAMSAY ST         AGG. ASSAULT   \n",
       "4  09/02/2017  22:31:00        4E       100 LIGHT ST       COMMON ASSAULT   \n",
       "\n",
       "  Inside/Outside   Weapon   Post  District      Neighborhood  Longitude  \\\n",
       "0              I    KNIFE  913.0  SOUTHERN          Brooklyn  -76.60541   \n",
       "1              O      NaN  133.0   CENTRAL    Reservoir Hill  -76.63217   \n",
       "2        Outside  FIREARM  524.0  NORTHERN    Winston-Govans  -76.60697   \n",
       "3              I    OTHER  934.0  SOUTHERN  Carrollton Ridge  -76.64526   \n",
       "4              O    HANDS  113.0   CENTRAL     Downtown West  -76.61365   \n",
       "\n",
       "   Latitude                       Location 1     Premise  Total Incidents  \n",
       "0  39.22951  (39.2295100000, -76.6054100000)  ROW/TOWNHO                1  \n",
       "1  39.31360  (39.3136000000, -76.6321700000)      STREET                1  \n",
       "2  39.34768  (39.3476800000, -76.6069700000)      Street                1  \n",
       "3  39.28315  (39.2831500000, -76.6452600000)  ROW/TOWNHO                1  \n",
       "4  39.28756  (39.2875600000, -76.6136500000)      STREET                1  "
      ]
     },
     "execution_count": 192,
     "metadata": {},
     "output_type": "execute_result"
    }
   ],
   "source": [
    "df.head()"
   ]
  },
  {
   "cell_type": "markdown",
   "metadata": {},
   "source": [
    "Clean dataset"
   ]
  },
  {
   "cell_type": "code",
   "execution_count": 193,
   "metadata": {
    "collapsed": false
   },
   "outputs": [
    {
     "data": {
      "text/plain": [
       "276529"
      ]
     },
     "execution_count": 193,
     "metadata": {},
     "output_type": "execute_result"
    }
   ],
   "source": [
    "len(df)"
   ]
  },
  {
   "cell_type": "code",
   "execution_count": 194,
   "metadata": {
    "collapsed": false
   },
   "outputs": [
    {
     "data": {
      "text/plain": [
       "CrimeDate               0\n",
       "CrimeTime               0\n",
       "CrimeCode               0\n",
       "Location             2207\n",
       "Description             0\n",
       "Inside/Outside      10279\n",
       "Weapon             180952\n",
       "Post                  224\n",
       "District               80\n",
       "Neighborhood         2740\n",
       "Longitude            2204\n",
       "Latitude             2204\n",
       "Location 1           2204\n",
       "Premise             10757\n",
       "Total Incidents         0\n",
       "dtype: int64"
      ]
     },
     "execution_count": 194,
     "metadata": {},
     "output_type": "execute_result"
    }
   ],
   "source": [
    "# check nan values\n",
    "len(df) - df.count()"
   ]
  },
  {
   "cell_type": "code",
   "execution_count": 195,
   "metadata": {
    "collapsed": true
   },
   "outputs": [],
   "source": [
    "# drop weapon column\n",
    "df.drop('Weapon', 1, inplace=True)"
   ]
  },
  {
   "cell_type": "code",
   "execution_count": 196,
   "metadata": {
    "collapsed": false
   },
   "outputs": [
    {
     "data": {
      "text/plain": [
       "263118"
      ]
     },
     "execution_count": 196,
     "metadata": {},
     "output_type": "execute_result"
    }
   ],
   "source": [
    "df.dropna(inplace=True)\n",
    "len(df)"
   ]
  },
  {
   "cell_type": "markdown",
   "metadata": {},
   "source": [
    "We're going to use only the 4 neighborhoods with more crime"
   ]
  },
  {
   "cell_type": "code",
   "execution_count": 197,
   "metadata": {
    "collapsed": true
   },
   "outputs": [],
   "source": [
    "top4 = df['CrimeDate'].groupby(df.Neighborhood).count().sort_values(ascending=False).head(4).index"
   ]
  },
  {
   "cell_type": "code",
   "execution_count": 198,
   "metadata": {
    "collapsed": false
   },
   "outputs": [],
   "source": [
    "sample = df[df['Neighborhood'].isin(top4)]"
   ]
  },
  {
   "cell_type": "code",
   "execution_count": 199,
   "metadata": {
    "collapsed": false
   },
   "outputs": [],
   "source": [
    "sample = sample.apply(lambda x: x.astype(str).str.lower())"
   ]
  },
  {
   "cell_type": "code",
   "execution_count": 200,
   "metadata": {
    "collapsed": false
   },
   "outputs": [
    {
     "name": "stdout",
     "output_type": "stream",
     "text": [
      "CrimeDate\n",
      "2071\n",
      "CrimeTime\n",
      "1543\n",
      "CrimeCode\n",
      "72\n",
      "Location\n",
      "2055\n",
      "Description\n",
      "15\n",
      "Inside/Outside\n",
      "4\n",
      "Post\n",
      "14\n",
      "District\n",
      "3\n",
      "Neighborhood\n",
      "4\n",
      "Longitude\n",
      "4356\n",
      "Latitude\n",
      "3546\n",
      "Location 1\n",
      "7566\n",
      "Premise\n",
      "97\n",
      "Total Incidents\n",
      "1\n"
     ]
    }
   ],
   "source": [
    "categorical = sample.select_dtypes(include=['object'])\n",
    "for i in categorical:\n",
    "    column = categorical[i]\n",
    "    print(i)\n",
    "    print(column.nunique())"
   ]
  },
  {
   "cell_type": "markdown",
   "metadata": {},
   "source": [
    "We're going to some variables and reduce Crime Date and Crime Time to day of the week and day/night options"
   ]
  },
  {
   "cell_type": "code",
   "execution_count": 201,
   "metadata": {
    "collapsed": false
   },
   "outputs": [],
   "source": [
    "sample.drop(['Location', 'Location 1', 'Premise', 'Total Incidents'], 1, inplace=True)"
   ]
  },
  {
   "cell_type": "code",
   "execution_count": 202,
   "metadata": {
    "collapsed": false
   },
   "outputs": [],
   "source": [
    "sample.CrimeDate = pd.to_datetime(sample.CrimeDate,infer_datetime_format=True).dt.dayofweek\n",
    "sample.CrimeTime = pd.to_datetime(sample.CrimeTime,infer_datetime_format=True).dt.hour"
   ]
  },
  {
   "cell_type": "code",
   "execution_count": 203,
   "metadata": {
    "collapsed": false
   },
   "outputs": [],
   "source": [
    "sample.CrimeTime = sample.CrimeTime.apply(lambda x: 'Night' if x <= 7 else 'Day' if x <19 else 'Night')"
   ]
  },
  {
   "cell_type": "markdown",
   "metadata": {},
   "source": [
    "Let's unify Inside/Outside values"
   ]
  },
  {
   "cell_type": "code",
   "execution_count": 204,
   "metadata": {
    "collapsed": false
   },
   "outputs": [
    {
     "data": {
      "text/plain": [
       "array(['i', 'o', 'outside', 'inside'], dtype=object)"
      ]
     },
     "execution_count": 204,
     "metadata": {},
     "output_type": "execute_result"
    }
   ],
   "source": [
    "sample['Inside/Outside'].unique()"
   ]
  },
  {
   "cell_type": "code",
   "execution_count": 205,
   "metadata": {
    "collapsed": false
   },
   "outputs": [],
   "source": [
    "sample['Inside/Outside'] = sample['Inside/Outside'].replace('i', 'inside')\n",
    "sample['Inside/Outside'] = sample['Inside/Outside'].replace('o', 'outside')"
   ]
  },
  {
   "cell_type": "code",
   "execution_count": 206,
   "metadata": {
    "collapsed": false
   },
   "outputs": [
    {
     "data": {
      "text/plain": [
       "array(['inside', 'outside'], dtype=object)"
      ]
     },
     "execution_count": 206,
     "metadata": {},
     "output_type": "execute_result"
    }
   ],
   "source": [
    "sample['Inside/Outside'].unique()"
   ]
  },
  {
   "cell_type": "markdown",
   "metadata": {},
   "source": [
    "## Classify Crime Location (Inside or Outside) with Decision Tree\n",
    "We will use Decision Trees and Random Forests to build a model that classifies as model as happened inside or outside"
   ]
  },
  {
   "cell_type": "code",
   "execution_count": 207,
   "metadata": {
    "collapsed": true
   },
   "outputs": [],
   "source": [
    "# data used\n",
    "X = sample.drop('Inside/Outside', 1)\n",
    "Y = sample['Inside/Outside']"
   ]
  },
  {
   "cell_type": "code",
   "execution_count": 208,
   "metadata": {
    "collapsed": false
   },
   "outputs": [],
   "source": [
    "X = pd.get_dummies(X)"
   ]
  },
  {
   "cell_type": "code",
   "execution_count": 209,
   "metadata": {
    "collapsed": false
   },
   "outputs": [
    {
     "name": "stdout",
     "output_type": "stream",
     "text": [
      "--- 47.03683304786682 seconds ---\n",
      "0.5311280357183078\n"
     ]
    }
   ],
   "source": [
    "# Initialize and train our tree.\n",
    "d_tree = tree.DecisionTreeClassifier(\n",
    "    criterion='entropy',\n",
    "    max_features=1,\n",
    "    max_depth=5,\n",
    ")\n",
    "\n",
    "start_time = time.time()\n",
    "score_dt = cross_val_score(d_tree, X, Y, cv=5).mean()\n",
    "print(\"--- %s seconds ---\" % (time.time() - start_time))\n",
    "\n",
    "print(score_dt)"
   ]
  },
  {
   "cell_type": "markdown",
   "metadata": {},
   "source": [
    "## Classify Crime Location (Inside or Outside) with Decision Tree"
   ]
  },
  {
   "cell_type": "code",
   "execution_count": 211,
   "metadata": {
    "collapsed": false
   },
   "outputs": [
    {
     "name": "stdout",
     "output_type": "stream",
     "text": [
      "--- 139.59245920181274 seconds ---\n",
      "0.8216022739292794\n"
     ]
    }
   ],
   "source": [
    "rfc = ensemble.RandomForestClassifier()\n",
    "\n",
    "start_time = time.time()\n",
    "score_rf = cross_val_score(rfc, X, Y, cv=5).mean()\n",
    "print(\"--- %s seconds ---\" % (time.time() - start_time))\n",
    "\n",
    "print(score_rf)"
   ]
  },
  {
   "cell_type": "markdown",
   "metadata": {},
   "source": [
    "Random Forest gets much better results :O"
   ]
  }
 ],
 "metadata": {
  "kernelspec": {
   "display_name": "Python 3",
   "language": "python",
   "name": "python3"
  },
  "language_info": {
   "codemirror_mode": {
    "name": "ipython",
    "version": 3
   },
   "file_extension": ".py",
   "mimetype": "text/x-python",
   "name": "python",
   "nbconvert_exporter": "python",
   "pygments_lexer": "ipython3",
   "version": "3.6.4"
  }
 },
 "nbformat": 4,
 "nbformat_minor": 1
}
