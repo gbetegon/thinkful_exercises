{
 "cells": [
  {
   "cell_type": "code",
   "execution_count": 119,
   "metadata": {
    "collapsed": true
   },
   "outputs": [],
   "source": [
    "%matplotlib inline\n",
    "import pandas as pd\n",
    "import numpy as np\n",
    "import matplotlib.pyplot as plt\n",
    "import seaborn as sns\n",
    "from collections import Counter\n",
    "import operator\n",
    "from sklearn.naive_bayes import GaussianNB"
   ]
  },
  {
   "cell_type": "markdown",
   "metadata": {},
   "source": [
    "## Challengue\n",
    "Now that you've spent some time tinkering with an example Naive Bayes Classifier, it's time to build your own.\n",
    "\n",
    "We've mentioned that Naive Bayes is particularly good for text classification problems. Before we made a spam filter. Now we'll perform a sentiment analysis, classifying whether feedback left on a website is either positive or negative.\n",
    "\n",
    "Again the UCI Machine Learning database has a nice labeled dataset of sentiment labelled sentences for us to use. This dataset was created for the paper From Group to Individual Labels using Deep Features, Kotzias et. al., KDD 2015.\n",
    "\n",
    "Pick one of the company data files and build your own classifier. When you're satisfied with its performance (at this point just using the accuracy measure shown in the example), test it on one of the other datasets to see how well these kinds of classifiers translate from one context to another.\n",
    "\n",
    "Include your model and a brief writeup of your feature engineering and selection process to submit and review with your mentor."
   ]
  },
  {
   "cell_type": "markdown",
   "metadata": {},
   "source": [
    "First we import and merge all the data into one dataframe."
   ]
  },
  {
   "cell_type": "code",
   "execution_count": 120,
   "metadata": {
    "collapsed": false
   },
   "outputs": [
    {
     "name": "stdout",
     "output_type": "stream",
     "text": [
      "yelp length is 1000\n",
      "imdb length is 748\n",
      "amazon_cells length is 1000\n"
     ]
    },
    {
     "data": {
      "text/html": [
       "<div>\n",
       "<style scoped>\n",
       "    .dataframe tbody tr th:only-of-type {\n",
       "        vertical-align: middle;\n",
       "    }\n",
       "\n",
       "    .dataframe tbody tr th {\n",
       "        vertical-align: top;\n",
       "    }\n",
       "\n",
       "    .dataframe thead th {\n",
       "        text-align: right;\n",
       "    }\n",
       "</style>\n",
       "<table border=\"1\" class=\"dataframe\">\n",
       "  <thead>\n",
       "    <tr style=\"text-align: right;\">\n",
       "      <th></th>\n",
       "      <th>Sentence</th>\n",
       "      <th>Sentiment</th>\n",
       "      <th>Company</th>\n",
       "    </tr>\n",
       "  </thead>\n",
       "  <tbody>\n",
       "    <tr>\n",
       "      <th>0</th>\n",
       "      <td>wow... loved this place.</td>\n",
       "      <td>1</td>\n",
       "      <td>yelp</td>\n",
       "    </tr>\n",
       "    <tr>\n",
       "      <th>1</th>\n",
       "      <td>crust is not good.</td>\n",
       "      <td>0</td>\n",
       "      <td>yelp</td>\n",
       "    </tr>\n",
       "    <tr>\n",
       "      <th>2</th>\n",
       "      <td>not tasty and the texture was just nasty.</td>\n",
       "      <td>0</td>\n",
       "      <td>yelp</td>\n",
       "    </tr>\n",
       "    <tr>\n",
       "      <th>3</th>\n",
       "      <td>stopped by during the late may bank holiday of...</td>\n",
       "      <td>1</td>\n",
       "      <td>yelp</td>\n",
       "    </tr>\n",
       "    <tr>\n",
       "      <th>4</th>\n",
       "      <td>the selection on the menu was great and so wer...</td>\n",
       "      <td>1</td>\n",
       "      <td>yelp</td>\n",
       "    </tr>\n",
       "  </tbody>\n",
       "</table>\n",
       "</div>"
      ],
      "text/plain": [
       "                                            Sentence  Sentiment Company\n",
       "0                           wow... loved this place.          1    yelp\n",
       "1                                 crust is not good.          0    yelp\n",
       "2          not tasty and the texture was just nasty.          0    yelp\n",
       "3  stopped by during the late may bank holiday of...          1    yelp\n",
       "4  the selection on the menu was great and so wer...          1    yelp"
      ]
     },
     "execution_count": 120,
     "metadata": {},
     "output_type": "execute_result"
    }
   ],
   "source": [
    "path = '/Users/Stephanie/desktop/thinkful/projects/3_bootcamp/' \\\n",
    "       'U2L2P7/sentiment labelled sentences/NAME_labelled.txt'\n",
    "\n",
    "df = pd.DataFrame()\n",
    "for company in ('yelp', 'imdb', 'amazon_cells'):\n",
    "    company_df = pd.read_csv(path.replace('NAME', company), delimiter='\\t', names=['Sentence', 'Sentiment'])\n",
    "    company_df['Company'] = company\n",
    "    print('{} length is {}'.format(company, len(company_df)))\n",
    "    df = df.append(company_df)\n",
    "    \n",
    "    \n",
    "df.Sentence = df.Sentence.str.lower()\n",
    "\n",
    "df.head()\n"
   ]
  },
  {
   "cell_type": "markdown",
   "metadata": {},
   "source": [
    "we're going to train on the yelp df and test on the amazon and also imdb dataframes"
   ]
  },
  {
   "cell_type": "code",
   "execution_count": 121,
   "metadata": {
    "collapsed": false
   },
   "outputs": [],
   "source": [
    "yelp = df[df['Company'] == 'yelp'][['Sentence', 'Sentiment']]\n",
    "amazon_cells = df[df['Company'] == 'amazon_cells'][['Sentence', 'Sentiment']]"
   ]
  },
  {
   "cell_type": "markdown",
   "metadata": {},
   "source": [
    "We want to find some good keywords both for positive and negative sentences. So we're going to select the positive sentences and see what words are more common. We'll get from that list any positive adjetives that we see are commonly used. We have to keep in mind that the words so be as general as possible so that our model can be apply to other industries datasets and work well. (so for example avoid using 'delicious' but 'great' instead')\n",
    "\n",
    "We'll do the same thing with negative sentences"
   ]
  },
  {
   "cell_type": "code",
   "execution_count": 122,
   "metadata": {
    "collapsed": false
   },
   "outputs": [],
   "source": [
    "remove = ['and', 'the', 'all', 'for', 'was', 'you']\n",
    "\n",
    "positive = yelp[yelp['Sentiment'] == 1]\n",
    "\n",
    "p_alpnumeric = positive.copy()\n",
    "p_alpnumeric.Sentence = p_alpnumeric.Sentence.str.replace('[^a-zA-Z\\d\\s:]', '')\n",
    "for word in remove:\n",
    "    p_alpnumeric.Sentence = p_alpnumeric.Sentence.str.replace(word, '')\n",
    "\n",
    "p_words = []\n",
    "for sentence in p_alpnumeric.Sentence:\n",
    "    words = sentence.split(' ')\n",
    "    p_words = p_words + words\n",
    "\n",
    "p_words = pd.Series(p_words)\n",
    "\n",
    "p_words = p_words[p_words.str.len() >= 3] #remove prepositions, etc.\n",
    "    \n",
    "p_words_count = dict(Counter(p_words))\n",
    "\n",
    "top30_p_words = dict(sorted(p_words_count.items(), key=operator.itemgetter(1), reverse=True)[:30])"
   ]
  },
  {
   "cell_type": "markdown",
   "metadata": {},
   "source": [
    "we're pursposelly ommitting like, really and very which multiply the sentiment but can"
   ]
  },
  {
   "cell_type": "code",
   "execution_count": 123,
   "metadata": {
    "collapsed": false
   },
   "outputs": [],
   "source": [
    "# would do a function if I had more time instead of dumping the same code again...\n",
    "negative = yelp[yelp['Sentiment'] == 0]\n",
    "\n",
    "n_alpnumeric = negative.copy()\n",
    "n_alpnumeric.Sentence = n_alpnumeric.Sentence.str.replace('[^a-zA-Z\\d\\s:]', '')\n",
    "n_alpnumeric.Sentence = n_alpnumeric.Sentence.str.lower()\n",
    "for word in remove:\n",
    "    n_alpnumeric.Sentence = n_alpnumeric.Sentence.str.replace(word, '')\n",
    "\n",
    "n_words = []\n",
    "for sentence in n_alpnumeric.Sentence:\n",
    "    words = sentence.split(' ')\n",
    "    n_words = n_words + words\n",
    "\n",
    "n_words = pd.Series(n_words)\n",
    "\n",
    "n_words = n_words[n_words.str.len() >= 3] #remove most prepositions, etc.\n",
    "    \n",
    "n_words_count = dict(Counter(n_words))\n",
    "\n",
    "top30_n_words = dict(sorted(n_words_count.items(), key=operator.itemgetter(1), reverse=True)[:30])"
   ]
  },
  {
   "cell_type": "code",
   "execution_count": 124,
   "metadata": {
    "collapsed": false
   },
   "outputs": [
    {
     "data": {
      "text/html": [
       "<div>\n",
       "<style scoped>\n",
       "    .dataframe tbody tr th:only-of-type {\n",
       "        vertical-align: middle;\n",
       "    }\n",
       "\n",
       "    .dataframe tbody tr th {\n",
       "        vertical-align: top;\n",
       "    }\n",
       "\n",
       "    .dataframe thead th {\n",
       "        text-align: right;\n",
       "    }\n",
       "</style>\n",
       "<table border=\"1\" class=\"dataframe\">\n",
       "  <thead>\n",
       "    <tr style=\"text-align: right;\">\n",
       "      <th></th>\n",
       "      <th>positive</th>\n",
       "      <th>negative</th>\n",
       "    </tr>\n",
       "  </thead>\n",
       "  <tbody>\n",
       "    <tr>\n",
       "      <th>again</th>\n",
       "      <td>NaN</td>\n",
       "      <td>16.0</td>\n",
       "    </tr>\n",
       "    <tr>\n",
       "      <th>also</th>\n",
       "      <td>18.0</td>\n",
       "      <td>NaN</td>\n",
       "    </tr>\n",
       "    <tr>\n",
       "      <th>amazing</th>\n",
       "      <td>21.0</td>\n",
       "      <td>NaN</td>\n",
       "    </tr>\n",
       "    <tr>\n",
       "      <th>are</th>\n",
       "      <td>36.0</td>\n",
       "      <td>27.0</td>\n",
       "    </tr>\n",
       "    <tr>\n",
       "      <th>back</th>\n",
       "      <td>23.0</td>\n",
       "      <td>38.0</td>\n",
       "    </tr>\n",
       "    <tr>\n",
       "      <th>bad</th>\n",
       "      <td>NaN</td>\n",
       "      <td>18.0</td>\n",
       "    </tr>\n",
       "    <tr>\n",
       "      <th>best</th>\n",
       "      <td>22.0</td>\n",
       "      <td>NaN</td>\n",
       "    </tr>\n",
       "    <tr>\n",
       "      <th>but</th>\n",
       "      <td>20.0</td>\n",
       "      <td>42.0</td>\n",
       "    </tr>\n",
       "    <tr>\n",
       "      <th>delicious</th>\n",
       "      <td>23.0</td>\n",
       "      <td>NaN</td>\n",
       "    </tr>\n",
       "    <tr>\n",
       "      <th>dont</th>\n",
       "      <td>NaN</td>\n",
       "      <td>25.0</td>\n",
       "    </tr>\n",
       "    <tr>\n",
       "      <th>ever</th>\n",
       "      <td>NaN</td>\n",
       "      <td>20.0</td>\n",
       "    </tr>\n",
       "    <tr>\n",
       "      <th>food</th>\n",
       "      <td>60.0</td>\n",
       "      <td>65.0</td>\n",
       "    </tr>\n",
       "    <tr>\n",
       "      <th>friendly</th>\n",
       "      <td>23.0</td>\n",
       "      <td>NaN</td>\n",
       "    </tr>\n",
       "    <tr>\n",
       "      <th>good</th>\n",
       "      <td>73.0</td>\n",
       "      <td>22.0</td>\n",
       "    </tr>\n",
       "    <tr>\n",
       "      <th>great</th>\n",
       "      <td>70.0</td>\n",
       "      <td>NaN</td>\n",
       "    </tr>\n",
       "    <tr>\n",
       "      <th>had</th>\n",
       "      <td>37.0</td>\n",
       "      <td>33.0</td>\n",
       "    </tr>\n",
       "    <tr>\n",
       "      <th>have</th>\n",
       "      <td>33.0</td>\n",
       "      <td>29.0</td>\n",
       "    </tr>\n",
       "    <tr>\n",
       "      <th>here</th>\n",
       "      <td>29.0</td>\n",
       "      <td>27.0</td>\n",
       "    </tr>\n",
       "    <tr>\n",
       "      <th>just</th>\n",
       "      <td>19.0</td>\n",
       "      <td>16.0</td>\n",
       "    </tr>\n",
       "    <tr>\n",
       "      <th>like</th>\n",
       "      <td>17.0</td>\n",
       "      <td>29.0</td>\n",
       "    </tr>\n",
       "    <tr>\n",
       "      <th>love</th>\n",
       "      <td>16.0</td>\n",
       "      <td>NaN</td>\n",
       "    </tr>\n",
       "    <tr>\n",
       "      <th>minutes</th>\n",
       "      <td>NaN</td>\n",
       "      <td>19.0</td>\n",
       "    </tr>\n",
       "    <tr>\n",
       "      <th>never</th>\n",
       "      <td>NaN</td>\n",
       "      <td>22.0</td>\n",
       "    </tr>\n",
       "    <tr>\n",
       "      <th>nice</th>\n",
       "      <td>22.0</td>\n",
       "      <td>NaN</td>\n",
       "    </tr>\n",
       "    <tr>\n",
       "      <th>not</th>\n",
       "      <td>18.0</td>\n",
       "      <td>98.0</td>\n",
       "    </tr>\n",
       "    <tr>\n",
       "      <th>one</th>\n",
       "      <td>NaN</td>\n",
       "      <td>16.0</td>\n",
       "    </tr>\n",
       "    <tr>\n",
       "      <th>only</th>\n",
       "      <td>NaN</td>\n",
       "      <td>16.0</td>\n",
       "    </tr>\n",
       "    <tr>\n",
       "      <th>our</th>\n",
       "      <td>22.0</td>\n",
       "      <td>19.0</td>\n",
       "    </tr>\n",
       "    <tr>\n",
       "      <th>place</th>\n",
       "      <td>57.0</td>\n",
       "      <td>49.0</td>\n",
       "    </tr>\n",
       "    <tr>\n",
       "      <th>restaurant</th>\n",
       "      <td>17.0</td>\n",
       "      <td>NaN</td>\n",
       "    </tr>\n",
       "    <tr>\n",
       "      <th>rey</th>\n",
       "      <td>22.0</td>\n",
       "      <td>NaN</td>\n",
       "    </tr>\n",
       "    <tr>\n",
       "      <th>service</th>\n",
       "      <td>45.0</td>\n",
       "      <td>37.0</td>\n",
       "    </tr>\n",
       "    <tr>\n",
       "      <th>that</th>\n",
       "      <td>24.0</td>\n",
       "      <td>44.0</td>\n",
       "    </tr>\n",
       "    <tr>\n",
       "      <th>this</th>\n",
       "      <td>77.0</td>\n",
       "      <td>66.0</td>\n",
       "    </tr>\n",
       "    <tr>\n",
       "      <th>time</th>\n",
       "      <td>22.0</td>\n",
       "      <td>20.0</td>\n",
       "    </tr>\n",
       "    <tr>\n",
       "      <th>very</th>\n",
       "      <td>46.0</td>\n",
       "      <td>29.0</td>\n",
       "    </tr>\n",
       "    <tr>\n",
       "      <th>were</th>\n",
       "      <td>34.0</td>\n",
       "      <td>31.0</td>\n",
       "    </tr>\n",
       "    <tr>\n",
       "      <th>will</th>\n",
       "      <td>NaN</td>\n",
       "      <td>22.0</td>\n",
       "    </tr>\n",
       "    <tr>\n",
       "      <th>with</th>\n",
       "      <td>41.0</td>\n",
       "      <td>30.0</td>\n",
       "    </tr>\n",
       "    <tr>\n",
       "      <th>would</th>\n",
       "      <td>NaN</td>\n",
       "      <td>21.0</td>\n",
       "    </tr>\n",
       "  </tbody>\n",
       "</table>\n",
       "</div>"
      ],
      "text/plain": [
       "            positive  negative\n",
       "again            NaN      16.0\n",
       "also            18.0       NaN\n",
       "amazing         21.0       NaN\n",
       "are             36.0      27.0\n",
       "back            23.0      38.0\n",
       "bad              NaN      18.0\n",
       "best            22.0       NaN\n",
       "but             20.0      42.0\n",
       "delicious       23.0       NaN\n",
       "dont             NaN      25.0\n",
       "ever             NaN      20.0\n",
       "food            60.0      65.0\n",
       "friendly        23.0       NaN\n",
       "good            73.0      22.0\n",
       "great           70.0       NaN\n",
       "had             37.0      33.0\n",
       "have            33.0      29.0\n",
       "here            29.0      27.0\n",
       "just            19.0      16.0\n",
       "like            17.0      29.0\n",
       "love            16.0       NaN\n",
       "minutes          NaN      19.0\n",
       "never            NaN      22.0\n",
       "nice            22.0       NaN\n",
       "not             18.0      98.0\n",
       "one              NaN      16.0\n",
       "only             NaN      16.0\n",
       "our             22.0      19.0\n",
       "place           57.0      49.0\n",
       "restaurant      17.0       NaN\n",
       "rey             22.0       NaN\n",
       "service         45.0      37.0\n",
       "that            24.0      44.0\n",
       "this            77.0      66.0\n",
       "time            22.0      20.0\n",
       "very            46.0      29.0\n",
       "were            34.0      31.0\n",
       "will             NaN      22.0\n",
       "with            41.0      30.0\n",
       "would            NaN      21.0"
      ]
     },
     "execution_count": 124,
     "metadata": {},
     "output_type": "execute_result"
    }
   ],
   "source": [
    "good = pd.Series(top30_p_words, index=top30_p_words.keys())\n",
    "bad = pd.Series(top30_n_words, index=top30_n_words.keys())\n",
    "\n",
    "words_df = pd.concat([good, bad], axis=1)\n",
    "words_df.columns = ['positive', 'negative']\n",
    "words_df"
   ]
  },
  {
   "cell_type": "markdown",
   "metadata": {},
   "source": [
    "Now, we want to add as positive keywords those that are common in the positive sentences and not in the negative, and same for the negative keywords. They also have to be general words and not just specific to the food industry.\n",
    "\n",
    "Finally we have some words that could go either way depending on how they're combined (e.g. like as _'I like'_ and _'I don't like'_). If an amplifier is found in the sentence it will increase the existing sentiment (positive or negative)"
   ]
  },
  {
   "cell_type": "code",
   "execution_count": 125,
   "metadata": {
    "collapsed": true
   },
   "outputs": [],
   "source": [
    "pos_kwords = ['amazing', 'best', 'friendly', 'nice', 'love']\n",
    "\n",
    "neg_kwords = [\"don't\", 'ever', 'never', 'not', 'bad', 'again', 'no']\n",
    "\n",
    "\n",
    "kwords = pos_kwords + neg_kwords"
   ]
  },
  {
   "cell_type": "code",
   "execution_count": 126,
   "metadata": {
    "collapsed": false
   },
   "outputs": [],
   "source": [
    "for key in kwords:\n",
    "    yelp.Sentence = ' ' + yelp.Sentence.astype(str) + ' '\n",
    "    yelp[str(key)] = yelp.Sentence.str.contains(\n",
    "        ' ' + str(key) + ' ',\n",
    "        case=False\n",
    "    )"
   ]
  },
  {
   "cell_type": "markdown",
   "metadata": {},
   "source": [
    "Let's see how many of the 1000 entries have any of the positive or negative keywords. We won't include the amplifiers as they increase the sentiment but work in combination with a negative or positive keyword"
   ]
  },
  {
   "cell_type": "code",
   "execution_count": 127,
   "metadata": {
    "collapsed": false
   },
   "outputs": [
    {
     "data": {
      "text/plain": [
       "265"
      ]
     },
     "execution_count": 127,
     "metadata": {},
     "output_type": "execute_result"
    }
   ],
   "source": [
    "len(yelp[yelp.loc[:,'amazing':'no'].any(1)])"
   ]
  },
  {
   "cell_type": "markdown",
   "metadata": {},
   "source": [
    "Let's check if we have a strong correlation between any of the keywords"
   ]
  },
  {
   "cell_type": "code",
   "execution_count": 128,
   "metadata": {
    "collapsed": false
   },
   "outputs": [
    {
     "data": {
      "text/plain": [
       "<matplotlib.axes._subplots.AxesSubplot at 0x115892080>"
      ]
     },
     "execution_count": 128,
     "metadata": {},
     "output_type": "execute_result"
    },
    {
     "data": {
      "image/png": "[encoded data removed]",
      "text/plain": [
       "<matplotlib.figure.Figure at 0x10bfaa9b0>"
      ]
     },
     "metadata": {},
     "output_type": "display_data"
    }
   ],
   "source": [
    "sns.heatmap(yelp.corr(), cmap=\"Blues\")"
   ]
  },
  {
   "cell_type": "markdown",
   "metadata": {},
   "source": [
    "It looks good."
   ]
  },
  {
   "cell_type": "markdown",
   "metadata": {},
   "source": [
    "### Predict against the same df (yelp)"
   ]
  },
  {
   "cell_type": "code",
   "execution_count": 129,
   "metadata": {
    "collapsed": false
   },
   "outputs": [
    {
     "name": "stdout",
     "output_type": "stream",
     "text": [
      "Number of mislabeled points out of a total 1000 points : 370\n"
     ]
    }
   ],
   "source": [
    "data = yelp[kwords]\n",
    "target = yelp['Sentiment']\n",
    "\n",
    "gnb = GaussianNB()\n",
    "gnb.fit(data, target)\n",
    "\n",
    "# Classify, storing the result in a new variable.\n",
    "y_pred = gnb.predict(data)\n",
    "\n",
    "# Display our results.\n",
    "print(\"Number of mislabeled points out of a total {} points : {}\".format(\n",
    "    data.shape[0],\n",
    "    (target != y_pred).sum()\n",
    "))"
   ]
  },
  {
   "cell_type": "markdown",
   "metadata": {},
   "source": [
    "### Predict against another df (amazon)"
   ]
  },
  {
   "cell_type": "code",
   "execution_count": 130,
   "metadata": {
    "collapsed": false
   },
   "outputs": [
    {
     "name": "stdout",
     "output_type": "stream",
     "text": [
      "Number of mislabeled points out of a total 1000 points : 379\n"
     ]
    }
   ],
   "source": [
    "for key in kwords:\n",
    "    amazon_cells.Sentence = ' ' + amazon_cells.Sentence.astype(str) + ' '\n",
    "    amazon_cells[str(key)] = amazon_cells.Sentence.str.contains(\n",
    "        ' ' + str(key) + ' ',\n",
    "        case=False\n",
    "    )\n",
    "\n",
    "data_amazon = amazon_cells[kwords]\n",
    "target_amazon = amazon_cells['Sentiment']\n",
    "\n",
    "# Classify, storing the result in a new variable.\n",
    "y_pred = gnb.predict(data_amazon)\n",
    "\n",
    "# Display our results.\n",
    "print(\"Number of mislabeled points out of a total {} points : {}\".format(\n",
    "    data_amazon.shape[0],\n",
    "    (target_amazon != y_pred).sum()\n",
    "))"
   ]
  }
 ],
 "metadata": {
  "anaconda-cloud": {},
  "kernelspec": {
   "display_name": "Python 3",
   "language": "python",
   "name": "python3"
  },
  "language_info": {
   "codemirror_mode": {
    "name": "ipython",
    "version": 3
   },
   "file_extension": ".py",
   "mimetype": "text/x-python",
   "name": "python",
   "nbconvert_exporter": "python",
   "pygments_lexer": "ipython3",
   "version": "3.6.4"
  }
 },
 "nbformat": 4,
 "nbformat_minor": 1
}
